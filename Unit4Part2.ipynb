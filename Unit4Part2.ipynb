{
 "cells": [
  {
   "cell_type": "code",
   "execution_count": 1,
   "id": "238cf113-c171-405a-97ab-98a9113467c9",
   "metadata": {},
   "outputs": [],
   "source": [
    "# Regular expression in python Using re module "
   ]
  },
  {
   "cell_type": "code",
   "execution_count": 2,
   "id": "377f2e73-1615-4408-88f5-f8a48c378e90",
   "metadata": {},
   "outputs": [
    {
     "name": "stdout",
     "output_type": "stream",
     "text": [
      "Match found: hello\n"
     ]
    }
   ],
   "source": [
    "# 1 regular expression  \n",
    "import re  # Import the re module to work with regular expressions\n",
    "\n",
    "# Define the regular expression pattern\n",
    "pattern = r\"hello\"  # The pattern we are looking for. 'r' makes it a raw string, so backslashes are treated literally.\n",
    "\n",
    "# Define the text to search within\n",
    "text = \"hello world\"  # The text where we want to search for the pattern\n",
    "\n",
    "# Use re.search() to look for the pattern in the text\n",
    "# It returns a match object if the pattern is found; otherwise, it returns None\n",
    "match = re.search(pattern, text)\n",
    "\n",
    "# Print the result\n",
    "# If a match is found, use match.group() to get the matched substring\n",
    "# If no match is found, print \"No match\"\n",
    "print(\"Match found:\", match.group() if match else \"No match\")"
   ]
  },
  {
   "cell_type": "code",
   "execution_count": 3,
   "id": "7257813b-40f4-4dbb-8f56-2255e9494b45",
   "metadata": {},
   "outputs": [
    {
     "name": "stdout",
     "output_type": "stream",
     "text": [
      "Match found: cat\n"
     ]
    }
   ],
   "source": [
    "# Simple character matches \n",
    "import re  # Import the regular expressions module\n",
    "\n",
    "# Define the regular expression pattern\n",
    "pattern = r\"cat\"  # The pattern we are looking for, which matches the substring \"cat\"\n",
    "\n",
    "# Define the text to search within\n",
    "text = \"The cat sat on the mat.\"  # The text where we want to search for the pattern\n",
    "\n",
    "# Use re.search() to look for the pattern in the text\n",
    "# It returns a match object if the pattern is found; otherwise, it returns None\n",
    "match = re.search(pattern, text)\n",
    "\n",
    "# Print the result\n",
    "# If a match is found, use match.group() to get the matched substring\n",
    "# If no match is found, print \"No match\"\n",
    "print(\"Match found:\", match.group() if match else \"No match\")"
   ]
  },
  {
   "cell_type": "code",
   "execution_count": 4,
   "id": "3c2d602e-d761-4456-96c6-24bf8b4e5b50",
   "metadata": {},
   "outputs": [
    {
     "name": "stdout",
     "output_type": "stream",
     "text": [
      "Match found: cat\n"
     ]
    }
   ],
   "source": [
    "# 3 Special Characters\n",
    "import re \n",
    "\n",
    "# Define the regular expression pattern\n",
    "pattern = r\"c.t\"  # The pattern matches any substring starting with 'c', ending with 't', and having any character in between\n",
    "\n",
    "# Define the text to search within\n",
    "text = \"The cat sat.\"  # The text where we want to search for the pattern\n",
    "\n",
    "# Use re.search() to look for the pattern in the text\n",
    "# It returns a match object if the pattern is found; otherwise, it returns None\n",
    "match = re.search(pattern, text)\n",
    "\n",
    "# Print the result\n",
    "# If a match is found, use match.group() to get the matched substring\n",
    "# If no match is found, print \"No match\"\n",
    "print(\"Match found:\", match.group() if match else \"No match\")"
   ]
  },
  {
   "cell_type": "code",
   "execution_count": 5,
   "id": "a2c4bb8b-371d-47ff-bd21-33a6793be566",
   "metadata": {},
   "outputs": [
    {
     "name": "stdout",
     "output_type": "stream",
     "text": [
      "Matches found: ['ello', 'orld']\n"
     ]
    }
   ],
   "source": [
    "# 4 charcter classes \n",
    "import re  \n",
    "\n",
    "pattern = r\"[a-z]+\"  # Matches one or more consecutive lowercase letters (a-z)\n",
    "\n",
    "# Define the text to search within\n",
    "text = \"Hello World 123\"  # The text where we want to search for the pattern\n",
    "\n",
    "# Use re.findall() to find all matches of the pattern in the text\n",
    "# It returns a list of all non-overlapping matches\n",
    "matches = re.findall(pattern, text)\n",
    "\n",
    "# Print the matches found\n",
    "print(\"Matches found:\", matches)"
   ]
  },
  {
   "cell_type": "code",
   "execution_count": 6,
   "id": "5c207805-59b7-431e-9a71-eb047dc2bd3c",
   "metadata": {},
   "outputs": [
    {
     "name": "stdout",
     "output_type": "stream",
     "text": [
      "Matches found: ['123', '456', '789']\n"
     ]
    }
   ],
   "source": [
    "# 5 Quantifiers \n",
    "import re  \n",
    "\n",
    "pattern = r\"\\d{3}\"  # Matches exactly three consecutive digits (0-9)\n",
    "\n",
    "# Define the text to search within\n",
    "text = \"My number is 1234567890\"  # The text where we want to search for the pattern\n",
    "\n",
    "# Use re.findall() to find all matches of the pattern in the text\n",
    "# It returns a list of all non-overlapping matches\n",
    "matches = re.findall(pattern, text)\n",
    "\n",
    "# Print the matches found\n",
    "print(\"Matches found:\", matches)"
   ]
  },
  {
   "cell_type": "code",
   "execution_count": 7,
   "id": "82480525-dbe4-4b76-8cae-eca00b3a0a32",
   "metadata": {},
   "outputs": [
    {
     "name": "stdout",
     "output_type": "stream",
     "text": [
      "Match found: hello\n"
     ]
    }
   ],
   "source": [
    "# 6 dot character (.)\n",
    "pattern = r\"h.llo\"\n",
    "text = \"hello\"\n",
    "match = re.search(pattern, text)\n",
    "print(\"Match found:\", match.group() if match else \"No match\")"
   ]
  },
  {
   "cell_type": "code",
   "execution_count": 8,
   "id": "4039d8c2-f22c-47f6-a123-e6f786c1c430",
   "metadata": {},
   "outputs": [
    {
     "name": "stdout",
     "output_type": "stream",
     "text": [
      "Greedy match: No match\n",
      "Lazy match: No match\n"
     ]
    }
   ],
   "source": [
    "# 7  Greedy Matches \n",
    "import re  # Import the regular expressions module\n",
    "\n",
    "# Define a greedy pattern\n",
    "pattern = r\"<.*>\"  # Matches any string starting with '<' and ending with '>', consuming as much as possible (greedy).\n",
    "\n",
    "# Define the text to search within\n",
    "text = \"content\"  # This is the input text to match against.\n",
    "\n",
    "# Use re.search() with the greedy pattern\n",
    "match = re.search(pattern, text)\n",
    "\n",
    "# Print the result of the greedy match\n",
    "print(\"Greedy match:\", match.group() if match else \"No match\")\n",
    "\n",
    "# Define a lazy pattern\n",
    "pattern_lazy = r\"<.*?>\"  # Matches any string starting with '<' and ending with '>', consuming as little as possible (lazy).\n",
    "\n",
    "# Use re.search() with the lazy pattern\n",
    "match_lazy = re.search(pattern_lazy, text)\n",
    "\n",
    "# Print the result of the lazy match\n",
    "print(\"Lazy match:\", match_lazy.group() if match_lazy else \"No match\")\n"
   ]
  },
  {
   "cell_type": "code",
   "execution_count": 9,
   "id": "7e8fd081-ff94-4f4e-b6a6-aa10341b69f1",
   "metadata": {},
   "outputs": [
    {
     "name": "stdout",
     "output_type": "stream",
     "text": [
      "Area code: 123\n",
      "Local code: 45\n"
     ]
    }
   ],
   "source": [
    "# 8 Grouping \n",
    "import re  # Import the regular expressions module\n",
    "\n",
    "#  regular expression pattern\n",
    "pattern = r\"(\\d{3})-(\\d{2})\"  \n",
    "# (\\d{3}): Matches exactly three consecutive digits (area code), captured as the first group.\n",
    "# -: Matches the literal dash character.\n",
    "# (\\d{2}): Matches exactly two consecutive digits (local code), captured as the second group.\n",
    "\n",
    "# Define the text to search within\n",
    "text = \"Phone number: 123-45\"  # The input text containing the area and local codes.\n",
    "\n",
    "# Use re.search() to search for the pattern in the text\n",
    "# It returns a match object if the pattern is found; otherwise, it returns None\n",
    "match = re.search(pattern, text)\n",
    "\n",
    "# If a match is found, extract and print the groups\n",
    "if match:\n",
    "    print(\"Area code:\", match.group(1))  # Group 1 corresponds to the first set of parentheses (\\d{3}).\n",
    "    print(\"Local code:\", match.group(2))  # Group 2 corresponds to the second set of parentheses (\\d{2}).\n",
    "else:\n",
    "    print(\"No match found\")  # If the pattern is not found, print this message.\n"
   ]
  },
  {
   "cell_type": "code",
   "execution_count": 10,
   "id": "988b43d6-185e-465e-a551-ef4cd86c17df",
   "metadata": {},
   "outputs": [
    {
     "name": "stdout",
     "output_type": "stream",
     "text": [
      "Match at start: Hello\n",
      "Match at end: world\n"
     ]
    }
   ],
   "source": [
    "#  9 Matching at Begnning or End\n",
    "import re  # Importing  regular expressions module\n",
    "\n",
    "# Define a pattern to match \"Hello\" at the start of the string\n",
    "pattern = r\"^Hello\"  # The caret (^) asserts that \"Hello\" must occur at the start of the text\n",
    "\n",
    "# Define the text to search within\n",
    "text = \"Hello world\"  # The text to test for matches\n",
    "\n",
    "# Use re.search() to check for a match at the start\n",
    "match = re.search(pattern, text)\n",
    "\n",
    "# Print the result for the start match\n",
    "print(\"Match at start:\", match.group() if match else \"No match\")\n",
    "\n",
    "# Define a pattern to match \"world\" at the end of the string\n",
    "pattern = r\"world$\"  # The dollar sign ($) asserts that \"world\" must occur at the end of the text\n",
    "\n",
    "# Use re.search() to check for a match at the end\n",
    "match = re.search(pattern, text)\n",
    "\n",
    "# Print the result for the end match\n",
    "print(\"Match at end:\", match.group() if match else \"No match\")"
   ]
  },
  {
   "cell_type": "code",
   "execution_count": 11,
   "id": "e1fbc5b0-4cbc-4e0c-a37a-d443aac5b8b8",
   "metadata": {},
   "outputs": [
    {
     "name": "stdout",
     "output_type": "stream",
     "text": [
      "Matched text: world\n",
      "Start position: 6\n",
      "End position: 11\n"
     ]
    }
   ],
   "source": [
    "# 10 Match objects \n",
    "import re  # Import the regular expressions module\n",
    "\n",
    "# Define the pattern to match the word \"world\"\n",
    "pattern = r\"world\"  # This matches the literal string \"world\"\n",
    "\n",
    "# Define the text to search within\n",
    "text = \"Hello world\"  # The text in which we're looking for the pattern\n",
    "\n",
    "# Use re.search() to find the first occurrence of the pattern\n",
    "match = re.search(pattern, text)\n",
    "\n",
    "# If a match is found, extract the matched text and its position\n",
    "if match:\n",
    "    print(\"Matched text:\", match.group())  # Returns the matched substring (i.e., \"world\")\n",
    "    print(\"Start position:\", match.start())  # Returns the starting index of the match\n",
    "    print(\"End position:\", match.end())  # Returns the ending index (exclusive) of the match\n",
    "else:\n",
    "    print(\"No match found\")\n"
   ]
  },
  {
   "cell_type": "code",
   "execution_count": 12,
   "id": "f50331ce-7f49-4798-a49f-2b9861fec328",
   "metadata": {},
   "outputs": [
    {
     "name": "stdout",
     "output_type": "stream",
     "text": [
      "After substitution: The dog sat on the mat.\n"
     ]
    }
   ],
   "source": [
    "# 11 substituting\n",
    "# using re.sub()\n",
    "\n",
    "import re  # Import the regular expressions module\n",
    "\n",
    "# Define the pattern to match the word \"cat\"\n",
    "pattern = r\"cat\"  # Matches the literal string \"cat\"\n",
    "\n",
    "# Define the text to search within\n",
    "text = \"The cat sat on the mat.\"  # The text where we want to replace \"cat\" with \"dog\"\n",
    "\n",
    "# Use re.sub() to substitute the matched pattern with the string \"dog\"\n",
    "result = re.sub(pattern, \"dog\", text)\n",
    "\n",
    "# Print the modified text after substitution\n",
    "print(\"After substitution:\", result)"
   ]
  },
  {
   "cell_type": "code",
   "execution_count": 13,
   "id": "abc2263b-84d2-4323-973d-cf314d377f7c",
   "metadata": {},
   "outputs": [
    {
     "name": "stdout",
     "output_type": "stream",
     "text": [
      "Split result: ['Split', 'this', 'sentence', 'by', 'spaces']\n"
     ]
    }
   ],
   "source": [
    "# 12 splitting a String \n",
    "import re  # Import the regular expressions module\n",
    "\n",
    "# Define the pattern to match one or more spaces\n",
    "pattern = r\"\\s+\"  # \\s matches any whitespace character (space, tab, newline), and '+' means \"one or more\"\n",
    "\n",
    "# Define the text to split\n",
    "text = \"Split this sentence by spaces\"  # The input string we want to split\n",
    "\n",
    "# Use re.split() to split the text by the pattern (one or more spaces)\n",
    "result = re.split(pattern, text)\n",
    "\n",
    "# Print the result after splitting\n",
    "print(\"Split result:\", result)"
   ]
  },
  {
   "cell_type": "code",
   "execution_count": 14,
   "id": "1900603f-7ae8-4b29-8691-3a4b997099ee",
   "metadata": {},
   "outputs": [
    {
     "name": "stdout",
     "output_type": "stream",
     "text": [
      "Matches: ['123', '456']\n"
     ]
    }
   ],
   "source": [
    "# 13 Compilling regular expression\n",
    "# Using re.compile() and findall()\n",
    "\n",
    "import re  # Import the regular expressions module\n",
    "\n",
    "# Compile the regular expression pattern to match one or more digits\n",
    "pattern = re.compile(r\"\\d+\")  # \\d matches any digit, and + means \"one or more\" digits in a row\n",
    "\n",
    "# Define the text to search within\n",
    "text = \"123 apples, 456 bananas\"  # The input string containing numbers\n",
    "\n",
    "# Using  findall() to find all occurrences of the pattern in the text\n",
    "matches = pattern.findall(text)\n",
    "\n",
    "# Print the result: the list of matched numbers\n",
    "print(\"Matches:\", matches)\n"
   ]
  },
  {
   "cell_type": "code",
   "execution_count": 15,
   "id": "541d8018-f13d-4482-b41e-e597c2dba290",
   "metadata": {},
   "outputs": [
    {
     "name": "stdout",
     "output_type": "stream",
     "text": [
      "Case-insensitive match: Hello\n"
     ]
    }
   ],
   "source": [
    "# 14 Flags \n",
    "import re  # Import the regular expressions module\n",
    "\n",
    "# Define the pattern to match the word \"hello\"\n",
    "pattern = r\"hello\"  # Matches the literal string \"hello\"\n",
    "\n",
    "# Define the text to search within\n",
    "text = \"Hello\"  # The text we want to search for the pattern\n",
    "\n",
    "# Use re.search() to search for the pattern with case-insensitive matching\n",
    "# re.IGNORECASE allows the pattern to match regardless of case (e.g., \"hello\" or \"Hello\")\n",
    "match = re.search(pattern, text, re.IGNORECASE)\n",
    "\n",
    "# Print the result: the matched text if found, or a message saying no match\n",
    "print(\"Case-insensitive match:\", match.group() if match else \"No match\")"
   ]
  },
  {
   "cell_type": "code",
   "execution_count": null,
   "id": "8cc40b22-9b53-46f5-b876-1d5f97a7b00c",
   "metadata": {},
   "outputs": [],
   "source": []
  }
 ],
 "metadata": {
  "kernelspec": {
   "display_name": "Python 3 (ipykernel)",
   "language": "python",
   "name": "python3"
  },
  "language_info": {
   "codemirror_mode": {
    "name": "ipython",
    "version": 3
   },
   "file_extension": ".py",
   "mimetype": "text/x-python",
   "name": "python",
   "nbconvert_exporter": "python",
   "pygments_lexer": "ipython3",
   "version": "3.13.0"
  }
 },
 "nbformat": 4,
 "nbformat_minor": 5
}
