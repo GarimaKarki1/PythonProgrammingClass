{
 "cells": [
  {
   "cell_type": "code",
   "execution_count": 1,
   "id": "82fd15dc-cedf-4e5f-8edc-83ea320e5b4c",
   "metadata": {},
   "outputs": [],
   "source": [
    "# UNIT 2\n",
    "# PASSING ARGUMENTS TO FUNCTIONS IN PYTHON\n"
   ]
  },
  {
   "cell_type": "code",
   "execution_count": 2,
   "id": "6400eca4-b29d-4a1e-b56b-71ed2779d13b",
   "metadata": {},
   "outputs": [
    {
     "name": "stdout",
     "output_type": "stream",
     "text": [
      "Hello, Shivam! Welcome to the company!\n"
     ]
    }
   ],
   "source": [
    "# 1. POSITIONAL ARGUMENTS\n",
    "\n",
    "def greet(name, message):\n",
    "    return f\"Hello, {name}! {message}\"\n",
    "\n",
    "print(greet(\"Shivam\", \"Welcome to the company!\"))"
   ]
  },
  {
   "cell_type": "code",
   "execution_count": 3,
   "id": "d93a5a53-7096-44f7-9595-63bae553715f",
   "metadata": {},
   "outputs": [
    {
     "name": "stdout",
     "output_type": "stream",
     "text": [
      "Hello, Riya! Welcome!\n",
      "Hello, Saksham! Good to see you!\n"
     ]
    }
   ],
   "source": [
    "# 2. DEFAULT ARGUMENTS\n",
    "\n",
    "def greet(name, message=\"Welcome!\"):\n",
    "    return f\"Hello, {name}! {message}\"\n",
    "\n",
    "print(greet(\"Riya\"))  # Uses default message\n",
    "print(greet(\"Saksham\", \"Good to see you!\"))  # Overrides default\n",
    "     "
   ]
  },
  {
   "cell_type": "code",
   "execution_count": 4,
   "id": "fa782b0b-5387-4bb5-bcd6-4e97c4726be8",
   "metadata": {},
   "outputs": [
    {
     "name": "stdout",
     "output_type": "stream",
     "text": [
      "Hello, A!\n",
      "Hello, B!\n",
      "Hello, C!\n"
     ]
    }
   ],
   "source": [
    "# 3. ARBITRARY POSITIONAL ARGUMENTS\n",
    "\n",
    "def greet(*names):\n",
    "    for name in names:\n",
    "        print(f\"Hello, {name}!\")\n",
    "\n",
    "greet(\"A\", \"B\", \"C\")"
   ]
  },
  {
   "cell_type": "code",
   "execution_count": 5,
   "id": "35163600-2dbe-4852-8c43-4b21944e3e0d",
   "metadata": {},
   "outputs": [
    {
     "name": "stdout",
     "output_type": "stream",
     "text": [
      "name: Rahu\n",
      "age: 32\n",
      "job: CA\n"
     ]
    }
   ],
   "source": [
    "# 4. ARBITRARY KEYWORD ARGUMENTS\n",
    "\n",
    "def describe_person(**info):\n",
    "    for key, value in info.items():\n",
    "        print(f\"{key}: {value}\")\n",
    "\n",
    "describe_person(name=\"Rahu\", age=32, job=\"CA\")"
   ]
  },
  {
   "cell_type": "code",
   "execution_count": 6,
   "id": "d17b2a73-84f9-4ead-b206-1dac7e143a72",
   "metadata": {},
   "outputs": [
    {
     "name": "stdout",
     "output_type": "stream",
     "text": [
      "9\n"
     ]
    }
   ],
   "source": [
    "# RETURNING VALUES FROM FUNCTIONS\n",
    "\n",
    "def add(a, b):\n",
    "    return a + b\n",
    "\n",
    "result = add(6, 3)\n",
    "print(result) "
   ]
  },
  {
   "cell_type": "code",
   "execution_count": 7,
   "id": "19aecf17-77be-4fbf-8070-0d00f7ee36b0",
   "metadata": {},
   "outputs": [
    {
     "name": "stdout",
     "output_type": "stream",
     "text": [
      "2 4\n"
     ]
    }
   ],
   "source": [
    "# SWAP\n",
    "\n",
    "def swap(a, b):\n",
    "    return b, a\n",
    "\n",
    "x, y = swap(4, 2)\n",
    "print(x, y)  "
   ]
  },
  {
   "cell_type": "code",
   "execution_count": 8,
   "id": "4332a25a-35e6-4999-b8af-a9642ffaaa72",
   "metadata": {},
   "outputs": [
    {
     "name": "stdout",
     "output_type": "stream",
     "text": [
      "5\n"
     ]
    }
   ],
   "source": [
    "# MODIFYING GLOBAL VARIABLES\n",
    "\n",
    "counter = 4\n",
    "\n",
    "def increment():\n",
    "    global counter\n",
    "    counter += 1\n",
    "\n",
    "increment()\n",
    "print(counter) "
   ]
  },
  {
   "cell_type": "code",
   "execution_count": 9,
   "id": "0720d660-aeec-499b-ad73-95bbc8b50997",
   "metadata": {},
   "outputs": [
    {
     "name": "stdout",
     "output_type": "stream",
     "text": [
      "Inside function: 9\n",
      "Outside function: 8\n"
     ]
    }
   ],
   "source": [
    "# BEHAVIOUR OF IMMUTABLE OBJECTS\n",
    "def modify_immutable(x):\n",
    "    x += 1\n",
    "    print(f\"Inside function: {x}\")\n",
    "\n",
    "a = 8\n",
    "modify_immutable(a)\n",
    "print(f\"Outside function: {a}\") "
   ]
  },
  {
   "cell_type": "code",
   "execution_count": 10,
   "id": "87b37d38-c0f0-448f-a239-75e464b24a2a",
   "metadata": {},
   "outputs": [
    {
     "name": "stdout",
     "output_type": "stream",
     "text": [
      "Inside function: [1, 4, 9, 12]\n",
      "Outside function: [1, 4, 9, 12]\n"
     ]
    }
   ],
   "source": [
    "# BEHAVIOUR OF MUTABLE OBJECTS\n",
    "\n",
    "def modify_mutable(list):\n",
    "    list.append(12)\n",
    "    print(f\"Inside function: {list}\")\n",
    "\n",
    "my_list =[1, 4, 9]\n",
    "modify_mutable(my_list)\n",
    "print(f\"Outside function: {my_list}\") "
   ]
  },
  {
   "cell_type": "code",
   "execution_count": 11,
   "id": "5f0725b9-7d5f-4e73-98e7-b905616f33d3",
   "metadata": {},
   "outputs": [
    {
     "name": "stdout",
     "output_type": "stream",
     "text": [
      "Before: 140716336735368\n",
      "After: 140716336735400\n"
     ]
    }
   ],
   "source": [
    "# id FUNCION AND OBJECT IDENTITY BEFORE AND AFTER MODIFICATION OF IMMUTABLE OBJECTS\n",
    "def modify(x):\n",
    "    print(f\"Before: {id(x)}\")\n",
    "    x += 1\n",
    "    print(f\"After: {id(x)}\")\n",
    "\n",
    "a = 8\n",
    "modify(a) "
   ]
  },
  {
   "cell_type": "code",
   "execution_count": 12,
   "id": "37aa9504-6980-45b4-b61b-2c755039a580",
   "metadata": {},
   "outputs": [
    {
     "name": "stdout",
     "output_type": "stream",
     "text": [
      "Before: 2181369764992\n",
      "After: 2181369764992\n"
     ]
    }
   ],
   "source": [
    "# id FUNCION AND OBJECT IDENTITY BEFORE AND AFTER MODIFICATION OF IMMUTABLE OBJECTS\n",
    "\n",
    "def modify(lst):\n",
    "    print(f\"Before: {id(lst)}\")\n",
    "    lst.append(4)\n",
    "    print(f\"After: {id(lst)}\")\n",
    "\n",
    "my_list = [1, 2, 3]\n",
    "modify(my_list)"
   ]
  },
  {
   "cell_type": "code",
   "execution_count": null,
   "id": "e416a7f5-38ec-4e79-bf2b-d8ab49fe16d9",
   "metadata": {},
   "outputs": [],
   "source": []
  }
 ],
 "metadata": {
  "kernelspec": {
   "display_name": "Python 3 (ipykernel)",
   "language": "python",
   "name": "python3"
  },
  "language_info": {
   "codemirror_mode": {
    "name": "ipython",
    "version": 3
   },
   "file_extension": ".py",
   "mimetype": "text/x-python",
   "name": "python",
   "nbconvert_exporter": "python",
   "pygments_lexer": "ipython3",
   "version": "3.13.0"
  }
 },
 "nbformat": 4,
 "nbformat_minor": 5
}
