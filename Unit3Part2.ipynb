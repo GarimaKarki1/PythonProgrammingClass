{
 "cells": [
  {
   "cell_type": "code",
   "execution_count": 1,
   "id": "02e725e2-b721-4086-8992-a6a904b4ba57",
   "metadata": {},
   "outputs": [],
   "source": [
    "#Pickle Module"
   ]
  },
  {
   "cell_type": "code",
   "execution_count": 3,
   "id": "da2d7a07-e465-4b62-bf00-30a03047d5a9",
   "metadata": {},
   "outputs": [
    {
     "name": "stdout",
     "output_type": "stream",
     "text": [
      "Data has been serialized and saved to data.pickle\n"
     ]
    }
   ],
   "source": [
    "import pickle\n",
    "\n",
    "# A Python object (dictionary in this case)\n",
    "data = {\"name\": \"Alice\", \"age\": 30, \"occupation\": \"Engineer\"}\n",
    "\n",
    "# Open a file in binary write mode\n",
    "with open(\"data.pickle\", \"wb\") as file:\n",
    "    # Pickle the Python object and save it to file\n",
    "    pickle.dump(data, file)\n",
    "\n",
    "print(\"Data has been serialized and saved to data.pickle\")\n",
    "\n",
    "\n"
   ]
  },
  {
   "cell_type": "code",
   "execution_count": 5,
   "id": "3f72708b-8a66-4125-94f9-2dc7dcad9bac",
   "metadata": {},
   "outputs": [
    {
     "name": "stdout",
     "output_type": "stream",
     "text": [
      "Deserialized data: {'name': 'Alice', 'age': 30, 'occupation': 'Engineer'}\n"
     ]
    }
   ],
   "source": [
    "import pickle\n",
    "\n",
    "# Open the file in binary read mode\n",
    "with open(\"data.pickle\", \"rb\") as file:\n",
    "    # Unpickle the Python object from the file\n",
    "    loaded_data = pickle.load(file)\n",
    "\n",
    "print(\"Deserialized data:\", loaded_data)\n",
    "\n",
    "\n",
    "\n",
    "\n"
   ]
  },
  {
   "cell_type": "code",
   "execution_count": 7,
   "id": "a0d23f90-99e1-4b28-8192-030322f4e983",
   "metadata": {},
   "outputs": [
    {
     "name": "stdout",
     "output_type": "stream",
     "text": [
      "[{'id': 1, 'name': 'Alice'}, {'id': 2, 'name': 'Bob'}]\n"
     ]
    }
   ],
   "source": [
    "import pickle\n",
    "\n",
    "# Serialize (pickle) the data\n",
    "data = [{\"id\": 1, \"name\": \"Alice\"}, {\"id\": 2, \"name\": \"Bob\"}]\n",
    "with open(\"data_list.pickle\", \"wb\") as file:\n",
    "    pickle.dump(data, file)\n",
    "\n",
    "# Now unpickle it (deserialize)\n",
    "with open(\"data_list.pickle\", \"rb\") as file:\n",
    "    loaded_data = pickle.load(file)\n",
    "\n",
    "# Print the loaded data\n",
    "print(loaded_data)\n"
   ]
  },
  {
   "cell_type": "code",
   "execution_count": 9,
   "id": "3d85ee4c-cb20-4fcf-b8ed-f39f41d7e6df",
   "metadata": {},
   "outputs": [
    {
     "name": "stdout",
     "output_type": "stream",
     "text": [
      "{'name': 'Alice', 'age': 30}\n"
     ]
    }
   ],
   "source": [
    "import shelve\n",
    "\n",
    "# Store data in a shelve\n",
    "with shelve.open('mydata') as db:\n",
    "    db['key'] = {'name': 'Alice', 'age': 30}\n",
    "\n",
    "# Retrieve data from shelve\n",
    "with shelve.open('mydata') as db:\n",
    "    print(db['key'])  # Output: {'name': 'Alice', 'age': 30}\n"
   ]
  },
  {
   "cell_type": "code",
   "execution_count": 11,
   "id": "0fbb15f9-7cd9-4e23-9f4e-e7e51ad08ddf",
   "metadata": {},
   "outputs": [
    {
     "name": "stdout",
     "output_type": "stream",
     "text": [
      "Person(name=Alice, age=30)\n"
     ]
    }
   ],
   "source": [
    "import pickle\n",
    "\n",
    "# Define the Person class\n",
    "class Person:\n",
    "    def __init__(self, name, age):  # Corrected the init method\n",
    "        self.name = name\n",
    "        self.age = age\n",
    "\n",
    "    def __repr__(self):  # Corrected the repr method\n",
    "        return f\"Person(name={self.name}, age={self.age})\"\n",
    "\n",
    "# Serialize an instance of Person\n",
    "person = Person(\"Alice\", 30)\n",
    "with open(\"person.pickle\", \"wb\") as file:\n",
    "    pickle.dump(person, file)\n",
    "\n",
    "# Deserialize it\n",
    "with open(\"person.pickle\", \"rb\") as file:\n",
    "    loaded_person = pickle.load(file)\n",
    "\n",
    "print(loaded_person)\n"
   ]
  },
  {
   "cell_type": "code",
   "execution_count": 14,
   "id": "9d629914-6a0d-4fed-86bf-5057afca4496",
   "metadata": {},
   "outputs": [
    {
     "name": "stdout",
     "output_type": "stream",
     "text": [
      "Hello, world!\n",
      "\n"
     ]
    }
   ],
   "source": [
    "import subprocess\n",
    "\n",
    "# Use a pipe to capture the output of a shell command\n",
    "proc = subprocess.Popen(\"echo Hello, world!\", stdout=subprocess.PIPE, shell=True)\n",
    "output = proc.communicate()[0]\n",
    "print(output.decode())  # Output: Hello, world!\n",
    "\n"
   ]
  },
  {
   "cell_type": "code",
   "execution_count": 15,
   "id": "ab6f87e5-5ccd-4639-99b2-540c73063bb8",
   "metadata": {},
   "outputs": [
    {
     "name": "stdout",
     "output_type": "stream",
     "text": [
      "File not found or unable to read.\n"
     ]
    }
   ],
   "source": [
    "try:\n",
    "    file = open(\"non_existent_file.txt\", \"r\")\n",
    "except IOError:\n",
    "    print(\"File not found or unable to read.\")"
   ]
  },
  {
   "cell_type": "code",
   "execution_count": 17,
   "id": "0bb8fd8b-b622-44d9-bf02-7998e312bf09",
   "metadata": {},
   "outputs": [
    {
     "name": "stdout",
     "output_type": "stream",
     "text": [
      "[]\n"
     ]
    }
   ],
   "source": [
    "import os\n",
    "\n",
    "# Create a directory\n",
    "os.mkdir(\"new_directory\")\n",
    "\n",
    "# Change working directory\n",
    "os.chdir(\"new_directory\")\n",
    "\n",
    "# List all files and directories\n",
    "print(os.listdir(\".\"))  # Output: []\n"
   ]
  },
  {
   "cell_type": "code",
   "execution_count": 19,
   "id": "9e15bcd4-3663-4093-8393-ebab28c97e0a",
   "metadata": {},
   "outputs": [
    {
     "name": "stdout",
     "output_type": "stream",
     "text": [
      "Size of file: 22 bytes\n"
     ]
    }
   ],
   "source": [
    "import os\n",
    "\n",
    "# Create the file if it doesn't exist (for testing purposes)\n",
    "if not os.path.exists(\"example.txt\"):\n",
    "    with open(\"example.txt\", \"w\") as f:\n",
    "        f.write(\"This is a sample file.\")\n",
    "\n",
    "# Now get file stats\n",
    "stat_info = os.stat(\"example.txt\")\n",
    "print(f\"Size of file: {stat_info.st_size} bytes\")\n"
   ]
  },
  {
   "cell_type": "code",
   "execution_count": null,
   "id": "22fe30b9-9912-4f61-904d-55c3b3debc22",
   "metadata": {},
   "outputs": [],
   "source": []
  }
 ],
 "metadata": {
  "kernelspec": {
   "display_name": "Python 3 (ipykernel)",
   "language": "python",
   "name": "python3"
  },
  "language_info": {
   "codemirror_mode": {
    "name": "ipython",
    "version": 3
   },
   "file_extension": ".py",
   "mimetype": "text/x-python",
   "name": "python",
   "nbconvert_exporter": "python",
   "pygments_lexer": "ipython3",
   "version": "3.13.0"
  }
 },
 "nbformat": 4,
 "nbformat_minor": 5
}
