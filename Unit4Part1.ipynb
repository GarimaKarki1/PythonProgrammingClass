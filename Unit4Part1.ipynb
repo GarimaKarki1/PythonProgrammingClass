{
 "cells": [
  {
   "cell_type": "code",
   "execution_count": 1,
   "id": "82fd15dc-cedf-4e5f-8edc-83ea320e5b4c",
   "metadata": {},
   "outputs": [
    {
     "name": "stdout",
     "output_type": "stream",
     "text": [
      "Buddy says woof!\n",
      "Charlie is 5 years old.\n",
      "Canis familiaris\n"
     ]
    }
   ],
   "source": [
    "# 2 Creating classes \n",
    "# we can create a class using keyword \"class\" and methods can be defined within it .\n",
    "class Dog:\n",
    "    # Class attribute (shared by all instances)\n",
    "    species = \"Canis familiaris\"\n",
    "    \n",
    "    # Constructor (initializer)\n",
    "    def __init__(self, name, age):\n",
    "        # Instance attributes (unique to each instance)\n",
    "        self.name = name\n",
    "        self.age = age\n",
    "    \n",
    "    # Instance method\n",
    "    def bark(self):\n",
    "        return f\"{self.name} says woof!\"\n",
    "    \n",
    "    # Another instance method\n",
    "    def get_age(self):\n",
    "        return f\"{self.name} is {self.age} years old.\"\n",
    "\n",
    "\n",
    "# Creating instances (objects) of the Dog class\n",
    "dog1 = Dog(\"Buddy\", 3)\n",
    "dog2 = Dog(\"Charlie\", 5)\n",
    "\n",
    "# Accessing attributes and methods\n",
    "print(dog1.bark())         # Buddy says woof!\n",
    "print(dog2.get_age())      # Charlie is 5 years old.\n",
    "print(dog1.species)        # Canis familiaris"
   ]
  },
  {
   "cell_type": "code",
   "execution_count": 2,
   "id": "adae7097-4ddf-4882-bbdb-01512ba89971",
   "metadata": {},
   "outputs": [],
   "source": [
    "#3 Instance Methods \n",
    "# These are function defined inside a class and can acess the attributes and other methods of the attributes \n",
    "#and other methods of the object using self.\n",
    "def bark(self):\n",
    "    return f\"{self.name} says woof!\"\n",
    "# instance method syntax object.method().\n",
    "    \n",
    "# 4 file organizer \n",
    "    from dog import Dog"
   ]
  },
  {
   "cell_type": "code",
   "execution_count": 7,
   "id": "7b500611-5ac9-4c77-bd36-2ce44cc4b56b",
   "metadata": {},
   "outputs": [
    {
     "name": "stdout",
     "output_type": "stream",
     "text": [
      "Buddy is 3 years old.\n"
     ]
    }
   ],
   "source": [
    "# Special Methods (Dunder Methods)\n",
    "# Allows object to behave in specific situations.\n",
    "class Dog:\n",
    "    # Python requires the constructor method to be named __init__ to initialize the object.\n",
    "    def __init__(self, name, age):  # Constructor method\n",
    "        self.name = name\n",
    "        self.age = age\n",
    "\n",
    "    # Defines string representation of an object when print() or str() is called on it.\n",
    "    def __str__(self):  # String representation method\n",
    "        return f\"{self.name} is {self.age} years old.\"\n",
    "\n",
    "# Create an instance of Dog\n",
    "dog = Dog(\"Buddy\", 3)\n",
    "print(dog)  # Output: Buddy is 3 years old\n"
   ]
  },
  {
   "cell_type": "code",
   "execution_count": 8,
   "id": "4d4e9eeb-8d3b-48d3-9ce0-fe768818084e",
   "metadata": {},
   "outputs": [
    {
     "name": "stdout",
     "output_type": "stream",
     "text": [
      "Canis familiaris\n",
      "Canis familiaris\n"
     ]
    }
   ],
   "source": [
    "# 6- class variables \n",
    "#class variables are shared across all the instance of a class.\n",
    "#they are defined within class but outside any instance method\n",
    "class Dog:\n",
    "    # Class variable shared by all instances\n",
    "    species = \"Canis familiaris\"\n",
    "    \n",
    "    def __init__(self, name, age):  # Fixed the typo here\n",
    "        self.name = name\n",
    "        self.age = age\n",
    "\n",
    "dog1 = Dog(\"Buddy\", 3)\n",
    "dog2 = Dog(\"Charlie\", 5)\n",
    "\n",
    "print(dog1.species)  # Output: Canis familiaris\n",
    "print(dog2.species)  # Output: Canis familiaris"
   ]
  },
  {
   "cell_type": "code",
   "execution_count": 9,
   "id": "2de8fd8b-ecc7-4b70-94c2-ac23ed038af7",
   "metadata": {},
   "outputs": [
    {
     "name": "stdout",
     "output_type": "stream",
     "text": [
      "Buddy says woof!\n",
      "Whiskers says meow!\n"
     ]
    }
   ],
   "source": [
    "# 7 - INHERITANCE\n",
    "# it allows to create a new class based on a existing class .\n",
    "# new class(child class) inherits attributes and methods  of a base class (parent class)\n",
    "class Animal:\n",
    "    def __init__(self, name):\n",
    "        self.name = name\n",
    "    \n",
    "    def speak(self):\n",
    "        raise NotImplementedError(\"Subclass must implement abstract method\")\n",
    "\n",
    "class Dog(Animal):\n",
    "    def speak(self):\n",
    "        return f\"{self.name} says woof!\"\n",
    "\n",
    "class Cat(Animal):\n",
    "    def speak(self):\n",
    "        return f\"{self.name} says meow!\"\n",
    "dog = Dog(\"Buddy\")\n",
    "cat = Cat(\"Whiskers\")\n",
    "\n",
    "print(dog.speak())  # Output: Buddy says woof!\n",
    "print(cat.speak())  # Output: Whiskers says meow!\n",
    "\n",
    "#in above code Dog and Cat class inherits methods form above class i.e Animal\n",
    "# and override the speak method"
   ]
  },
  {
   "cell_type": "code",
   "execution_count": 10,
   "id": "8447abf0-5e99-4a5e-b271-b18b02039036",
   "metadata": {},
   "outputs": [
    {
     "name": "stdout",
     "output_type": "stream",
     "text": [
      "Buddy says woof!\n",
      "Whiskers says meow!\n"
     ]
    }
   ],
   "source": [
    "# 8 - Polymorphism\n",
    "# polymorphism allows to have same name of a method in a class but with different parameters\n",
    "def animal_speak(animal):\n",
    "    print(animal.speak())\n",
    "\n",
    "dog = Dog(\"Buddy\")\n",
    "cat = Cat(\"Whiskers\")\n",
    "\n",
    "animal_speak(dog)  # Output: Buddy says woof!\n",
    "animal_speak(cat)  # Output: Whiskers says meow!"
   ]
  },
  {
   "cell_type": "code",
   "execution_count": 11,
   "id": "2af99a02-0d90-4938-a750-b08e6cb8a151",
   "metadata": {},
   "outputs": [
    {
     "name": "stdout",
     "output_type": "stream",
     "text": [
      "<class '__main__.Dog'>\n",
      "True\n",
      "True\n"
     ]
    }
   ],
   "source": [
    "# 9- type identification \n",
    "# int this pyhton identifes the type of an object using type() or isinstance() function\n",
    "print(type(dog))  # Output: main.Dog'>\n",
    "print(isinstance(dog, Dog))  # Output: True\n",
    "print(isinstance(dog, Animal))  # Output: Tru"
   ]
  },
  {
   "cell_type": "code",
   "execution_count": 12,
   "id": "26ea5e12-5c02-40f1-a172-103a05679456",
   "metadata": {},
   "outputs": [
    {
     "name": "stdout",
     "output_type": "stream",
     "text": [
      "Value cannot be negative!\n"
     ]
    }
   ],
   "source": [
    "# 10- custom Exception class\n",
    "#  we can create custom exception by inheiting form the base Exception class\n",
    "class CustomError(Exception):\n",
    "    def __init__(self, message):\n",
    "        self.message = message\n",
    "\n",
    "#Raising the custom exception\n",
    "def check_value(x):\n",
    "    if x < 0:\n",
    "        raise CustomError(\"Value cannot be negative!\")\n",
    "\n",
    "try:\n",
    "    check_value(-1)\n",
    "except CustomError as e:\n",
    "    print(e.message)  # Output: Value cannot be negative!"
   ]
  },
  {
   "cell_type": "code",
   "execution_count": null,
   "id": "550b50fb-b8c9-4c84-82bf-faa66e45cd24",
   "metadata": {},
   "outputs": [],
   "source": []
  }
 ],
 "metadata": {
  "kernelspec": {
   "display_name": "Python 3 (ipykernel)",
   "language": "python",
   "name": "python3"
  },
  "language_info": {
   "codemirror_mode": {
    "name": "ipython",
    "version": 3
   },
   "file_extension": ".py",
   "mimetype": "text/x-python",
   "name": "python",
   "nbconvert_exporter": "python",
   "pygments_lexer": "ipython3",
   "version": "3.13.0"
  }
 },
 "nbformat": 4,
 "nbformat_minor": 5
}
