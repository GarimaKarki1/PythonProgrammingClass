{
 "cells": [
  {
   "cell_type": "code",
   "execution_count": 1,
   "id": "82fd15dc-cedf-4e5f-8edc-83ea320e5b4c",
   "metadata": {},
   "outputs": [],
   "source": [
    "# UNIT 2\n",
    "# FUNCTIONS IN PYTHON"
   ]
  },
  {
   "cell_type": "code",
   "execution_count": 2,
   "id": "b1fd436c-605a-4847-a50f-48479b016f1c",
   "metadata": {},
   "outputs": [
    {
     "name": "stdout",
     "output_type": "stream",
     "text": [
      "Hello, Garima!\n"
     ]
    }
   ],
   "source": [
    "# 1. DEFINING YOUR OWN FUNCTIONS\n",
    "\n",
    "def greet(name):\n",
    "    return f\"Hello, {name}!\"\n",
    "\n",
    "#Calling the function\n",
    "\n",
    "message = greet(\"Garima\")\n",
    "print(message)"
   ]
  },
  {
   "cell_type": "code",
   "execution_count": 3,
   "id": "323065f6-6734-4a4e-8b72-0c2c6f1e566e",
   "metadata": {},
   "outputs": [
    {
     "name": "stdout",
     "output_type": "stream",
     "text": [
      "8\n"
     ]
    }
   ],
   "source": [
    "# 2. PARAMETERS\n",
    "\n",
    "def add(a, b):\n",
    "    \"\"\"Returns the sum of two numbers.\"\"\"\n",
    "    return a + b\n",
    "\n",
    "#Calling the function with arguments\n",
    "\n",
    "result = add(5, 3)\n",
    "print(result) "
   ]
  },
  {
   "cell_type": "code",
   "execution_count": 4,
   "id": "a8f08c8e-dc3d-4e96-9954-0d7da6dc9afa",
   "metadata": {},
   "outputs": [
    {
     "name": "stdout",
     "output_type": "stream",
     "text": [
      "\n",
      "Multiplies two numbers and returns the result.\n",
      "\n",
      "Parameters:\n",
      "a (int, float): The first number.\n",
      "b (int, float): The second number.\n",
      "\n",
      "Returns:\n",
      "int, float: The product of a and b.\n",
      "\n"
     ]
    }
   ],
   "source": [
    "# 3. FUNCTION DOCUMENTATION\n",
    "\n",
    "def multiply(a, b):\n",
    "    \"\"\"\n",
    "    Multiplies two numbers and returns the result.\n",
    "    \n",
    "    Parameters:\n",
    "    a (int, float): The first number.\n",
    "    b (int, float): The second number.\n",
    "    \n",
    "    Returns:\n",
    "    int, float: The product of a and b.\n",
    "    \"\"\"\n",
    "    return a * b\n",
    "\n",
    "print(multiply.__doc__)"
   ]
  },
  {
   "cell_type": "code",
   "execution_count": 5,
   "id": "6f3010cd-41ee-40e3-8ea5-f16e8c8ed9a5",
   "metadata": {},
   "outputs": [
    {
     "name": "stdout",
     "output_type": "stream",
     "text": [
      "My name is Roy, and I am 25 years old.\n",
      "My name is Ayushi, and I am 30 years old.\n"
     ]
    }
   ],
   "source": [
    "# 4. KEYWORD AND OPTIONAL PARAMETERS\n",
    "\n",
    "def introduce(name, age=25):\n",
    "    \"\"\"Introduces a person with their name and age.\"\"\"\n",
    "    return f\"My name is {name}, and I am {age} years old.\"\n",
    "\n",
    "#Calling with positional arguments\n",
    "\n",
    "print(introduce(\"Roy\"))  \n",
    "\n",
    "#Calling with keyword arguments\n",
    "\n",
    "print(introduce(name=\"Ayushi\", age=30)) "
   ]
  },
  {
   "cell_type": "code",
   "execution_count": 6,
   "id": "6f3299d8-3ccf-4575-9d58-399bbcc959fb",
   "metadata": {},
   "outputs": [
    {
     "name": "stdout",
     "output_type": "stream",
     "text": [
      "21\n",
      "80\n"
     ]
    }
   ],
   "source": [
    "# 5. PASSING COLLECTIONS TO A FUNCTION\n",
    "\n",
    "def sum_numbers(numbers):\n",
    "    \"\"\"Sums all the numbers in a collection.\"\"\"\n",
    "    return sum(numbers)\n",
    "\n",
    "#Passing a list to the function\n",
    "\n",
    "result = sum_numbers([1, 1, 3, 7, 9])\n",
    "print(result)  \n",
    "\n",
    "#Passing a tuple to the function\n",
    "\n",
    "result = sum_numbers((15, 26, 39))\n",
    "print(result) "
   ]
  },
  {
   "cell_type": "code",
   "execution_count": 7,
   "id": "8e5e3f4d-4aa8-4ecc-a5ca-fc3db1650eba",
   "metadata": {},
   "outputs": [
    {
     "name": "stdout",
     "output_type": "stream",
     "text": [
      "1\n",
      "2\n",
      "3\n",
      "4\n",
      "name: Shina\n",
      "age: 20\n"
     ]
    }
   ],
   "source": [
    "# 6. VARIABLE NUMBER OF ARGUMENTS\n",
    "\n",
    "def print_numbers(*args):\n",
    "    \"\"\"Prints each number passed as an argument.\"\"\"\n",
    "    for number in args:\n",
    "        print(number)\n",
    "\n",
    "#Calling with multiple arguments\n",
    "\n",
    "print_numbers(1, 2, 3, 4)\n",
    "\n",
    "def print_key_value(**kwargs):\n",
    "    \"\"\"Prints each key-value pair passed as keyword arguments.\"\"\"\n",
    "    for key, value in kwargs.items():\n",
    "        print(f\"{key}: {value}\")\n",
    "\n",
    "#Calling with keyword arguments\n",
    "\n",
    "print_key_value(name=\"Shina\", age=20)"
   ]
  },
  {
   "cell_type": "code",
   "execution_count": 8,
   "id": "2020e766-0527-4c75-a870-54164d746a4e",
   "metadata": {},
   "outputs": [
    {
     "name": "stdout",
     "output_type": "stream",
     "text": [
      "10\n",
      "85\n",
      "40\n"
     ]
    }
   ],
   "source": [
    "# 7. SCOPE\n",
    "\n",
    "x = 40  # Global variable\n",
    "\n",
    "def outer_function():\n",
    "    x = 85  # Enclosing variable\n",
    "\n",
    "    def inner_function():\n",
    "        x = 10  # Local variable\n",
    "        print(x)  \n",
    "\n",
    "    inner_function()\n",
    "    print(x) \n",
    "\n",
    "outer_function()\n",
    "print(x) "
   ]
  },
  {
   "cell_type": "code",
   "execution_count": null,
   "id": "0e5a4485-face-449c-80bc-b9450cb05968",
   "metadata": {},
   "outputs": [],
   "source": []
  }
 ],
 "metadata": {
  "kernelspec": {
   "display_name": "Python 3 (ipykernel)",
   "language": "python",
   "name": "python3"
  },
  "language_info": {
   "codemirror_mode": {
    "name": "ipython",
    "version": 3
   },
   "file_extension": ".py",
   "mimetype": "text/x-python",
   "name": "python",
   "nbconvert_exporter": "python",
   "pygments_lexer": "ipython3",
   "version": "3.13.0"
  }
 },
 "nbformat": 4,
 "nbformat_minor": 5
}
