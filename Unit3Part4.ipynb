{
 "cells": [
  {
   "cell_type": "code",
   "execution_count": 1,
   "id": "02e725e2-b721-4086-8992-a6a904b4ba57",
   "metadata": {},
   "outputs": [],
   "source": [
    "#Some important function in python"
   ]
  },
  {
   "cell_type": "code",
   "execution_count": 2,
   "id": "f4733b47-18fe-4e76-b78d-68b176894d93",
   "metadata": {},
   "outputs": [
    {
     "name": "stdout",
     "output_type": "stream",
     "text": [
      "False\n",
      "True\n"
     ]
    }
   ],
   "source": [
    "a = [1, 2, 3]\n",
    "b = [1, 2, 3]\n",
    "c = a\n",
    "\n",
    "print(a is b)  # Output: False (a and b have different memory locations)\n",
    "print(a is c)  # Output: True (a and c are the same object in memory)\n"
   ]
  },
  {
   "cell_type": "code",
   "execution_count": 3,
   "id": "a60ce515-400e-4931-b411-440013edc13a",
   "metadata": {},
   "outputs": [
    {
     "name": "stdout",
     "output_type": "stream",
     "text": [
      "True\n",
      "True\n",
      "True\n",
      "False\n"
     ]
    }
   ],
   "source": [
    "x = 10\n",
    "y = [1, 2, 3]\n",
    "z = \"hello\"\n",
    "\n",
    "print(isinstance(x, int))    # Output: True (x is an integer)\n",
    "print(isinstance(y, list))   # Output: True (y is a list)\n",
    "print(isinstance(z, str))    # Output: True (z is a string)\n",
    "print(isinstance(x, str))    # Output: False (x is not a string)\n"
   ]
  },
  {
   "cell_type": "code",
   "execution_count": 4,
   "id": "cffd48d4-c833-4890-9f75-b7a7b9c8248b",
   "metadata": {},
   "outputs": [
    {
     "name": "stdout",
     "output_type": "stream",
     "text": [
      "4\n",
      "5\n"
     ]
    }
   ],
   "source": [
    "my_list = [1, 2, 3, 4]\n",
    "my_string = \"hello\"\n",
    "\n",
    "print(len(my_list))   # Output: 4 (the list has 4 elements)\n",
    "print(len(my_string)) # Output: 5 (the string has 5 characters)\n"
   ]
  },
  {
   "cell_type": "code",
   "execution_count": 5,
   "id": "2a5b385d-216a-432e-affa-78f21a0aedd9",
   "metadata": {},
   "outputs": [
    {
     "name": "stdout",
     "output_type": "stream",
     "text": [
      "3\n",
      "2\n"
     ]
    }
   ],
   "source": [
    "my_list = [1, 2, 3, 2, 4, 2]\n",
    "my_string = \"hello world\"\n",
    "\n",
    "print(my_list.count(2))   # Output: 3 (2 occurs 3 times in the list)\n",
    "print(my_string.count(\"o\"))  # Output: 2 (the letter 'o' appears 2 times)\n"
   ]
  },
  {
   "cell_type": "code",
   "execution_count": 6,
   "id": "e842b4e9-5145-46e1-a764-ce0dc7fe0d48",
   "metadata": {},
   "outputs": [
    {
     "name": "stdout",
     "output_type": "stream",
     "text": [
      "['__add__', '__class__', '__class_getitem__', '__contains__', '__delattr__', '__delitem__', '__dir__', '__doc__', '__eq__', '__format__', '__ge__', '__getattribute__', '__getitem__', '__getstate__', '__gt__', '__hash__', '__iadd__', '__imul__', '__init__', '__init_subclass__', '__iter__', '__le__', '__len__', '__lt__', '__mul__', '__ne__', '__new__', '__reduce__', '__reduce_ex__', '__repr__', '__reversed__', '__rmul__', '__setattr__', '__setitem__', '__sizeof__', '__str__', '__subclasshook__', 'append', 'clear', 'copy', 'count', 'extend', 'index', 'insert', 'pop', 'remove', 'reverse', 'sort']\n"
     ]
    }
   ],
   "source": [
    "x = [1, 2, 3]\n",
    "print(dir(x))  # Output: A list of methods and attributes for a list object\n"
   ]
  },
  {
   "cell_type": "code",
   "execution_count": 7,
   "id": "a8f3b823-5150-4e7f-a86c-7954f21279dd",
   "metadata": {},
   "outputs": [
    {
     "name": "stdout",
     "output_type": "stream",
     "text": [
      "<class 'int'>\n",
      "<class 'str'>\n",
      "<class 'list'>\n"
     ]
    }
   ],
   "source": [
    "x = 5\n",
    "y = \"hello\"\n",
    "z = [1, 2, 3]\n",
    "\n",
    "print(type(x))  # Output: \n",
    "print(type(y))  # Output: \n",
    "print(type(z))  # Output: \n"
   ]
  },
  {
   "cell_type": "code",
   "execution_count": 8,
   "id": "5239aafc-24a8-42cb-9181-58104d93a25f",
   "metadata": {},
   "outputs": [
    {
     "name": "stdout",
     "output_type": "stream",
     "text": [
      "1624518846016\n",
      "1624518846016\n"
     ]
    }
   ],
   "source": [
    "a = [1, 2, 3]\n",
    "b = a\n",
    "\n",
    "print(id(a))  # Output: Memory address of 'a'\n",
    "print(id(b))  # Output: Same as 'a', because 'b' references the same object\n"
   ]
  },
  {
   "cell_type": "code",
   "execution_count": 9,
   "id": "5643e21b-accf-4969-9597-ae63a8a13385",
   "metadata": {},
   "outputs": [
    {
     "name": "stdout",
     "output_type": "stream",
     "text": [
      "10\n"
     ]
    }
   ],
   "source": [
    "numbers = [1, 2, 3, 4]\n",
    "print(sum(numbers))  # Output: 10 (sum of the numbers in the list)\n"
   ]
  },
  {
   "cell_type": "code",
   "execution_count": 10,
   "id": "15db9c7e-28a2-4c27-9b55-14a1801af98c",
   "metadata": {},
   "outputs": [
    {
     "name": "stdout",
     "output_type": "stream",
     "text": [
      "10\n",
      "1\n"
     ]
    }
   ],
   "source": [
    "numbers = [10, 3, 5, 1]\n",
    "\n",
    "print(max(numbers))  # Output: 10 (largest number in the list)\n",
    "print(min(numbers))  # Output: 1 (smallest number in the list)\n"
   ]
  },
  {
   "cell_type": "code",
   "execution_count": 11,
   "id": "599052a7-b8c9-4813-8efe-6df17a6b1a72",
   "metadata": {},
   "outputs": [
    {
     "name": "stdout",
     "output_type": "stream",
     "text": [
      "[1, 2, 3, 4]\n",
      "[3, 1, 4, 2]\n"
     ]
    }
   ],
   "source": [
    "my_list = [3, 1, 4, 2]\n",
    "sorted_list = sorted(my_list)\n",
    "\n",
    "print(sorted_list)  # Output: [1, 2, 3, 4]\n",
    "print(my_list)      # Output: [3, 1, 4, 2] (original list remains unchanged)\n"
   ]
  },
  {
   "cell_type": "code",
   "execution_count": 12,
   "id": "b12ac1b3-b1ef-4b54-8f73-fa850d8e29f6",
   "metadata": {},
   "outputs": [
    {
     "name": "stdout",
     "output_type": "stream",
     "text": [
      "[4, 3, 2, 1]\n"
     ]
    }
   ],
   "source": [
    "my_list = [1, 2, 3, 4]\n",
    "reversed_list = list(reversed(my_list))\n",
    "\n",
    "print(reversed_list)  # Output: [4, 3, 2, 1]\n"
   ]
  },
  {
   "cell_type": "code",
   "execution_count": 14,
   "id": "4a6257fb-05f6-470f-9ed6-24a3c706eed6",
   "metadata": {},
   "outputs": [
    {
     "name": "stdout",
     "output_type": "stream",
     "text": [
      "0 a\n",
      "1 b\n",
      "2 c\n"
     ]
    }
   ],
   "source": [
    "my_list = [\"a\", \"b\", \"c\"]\n",
    "for index, value in enumerate(my_list):\n",
    "    print(index, value)\n",
    "\n",
    "# Output:\n",
    "# 0 a\n",
    "# 1 b\n",
    "# 2 c\n",
    "\n",
    "\n"
   ]
  },
  {
   "cell_type": "code",
   "execution_count": 15,
   "id": "fd2f6a68-13b4-46f9-a6fe-ff9c12c18d54",
   "metadata": {},
   "outputs": [
    {
     "name": "stdout",
     "output_type": "stream",
     "text": [
      "True\n",
      "True\n",
      "True\n",
      "False\n"
     ]
    }
   ],
   "source": [
    "numbers = [1, 2, 3, 4]\n",
    "empty = []\n",
    "\n",
    "print(all(numbers))  # Output: True (all elements are truthy)\n",
    "print(all(empty))    # Output: True (all elements are truthy in an empty list)\n",
    "print(any(numbers))  # Output: True (at least one element is truthy)\n",
    "print(any(empty))    # Output: False (no elements in the list)\n"
   ]
  },
  {
   "cell_type": "code",
   "execution_count": null,
   "id": "080b476c-1da9-4314-a226-e9604fd11b2c",
   "metadata": {},
   "outputs": [],
   "source": []
  }
 ],
 "metadata": {
  "kernelspec": {
   "display_name": "Python 3 (ipykernel)",
   "language": "python",
   "name": "python3"
  },
  "language_info": {
   "codemirror_mode": {
    "name": "ipython",
    "version": 3
   },
   "file_extension": ".py",
   "mimetype": "text/x-python",
   "name": "python",
   "nbconvert_exporter": "python",
   "pygments_lexer": "ipython3",
   "version": "3.13.0"
  }
 },
 "nbformat": 4,
 "nbformat_minor": 5
}
