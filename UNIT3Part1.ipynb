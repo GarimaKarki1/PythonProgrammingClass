{
 "cells": [
  {
   "cell_type": "code",
   "execution_count": 1,
   "id": "9a464516-2a6d-4b8e-a96a-5ca8dd869700",
   "metadata": {},
   "outputs": [],
   "source": [
    "#EXCEPTIONS\n"
   ]
  },
  {
   "cell_type": "code",
   "execution_count": 2,
   "id": "9a0bb64b-129c-4919-b812-9d8cdea5822c",
   "metadata": {},
   "outputs": [
    {
     "name": "stdout",
     "output_type": "stream",
     "text": [
      "Cannot divide by zero!\n"
     ]
    }
   ],
   "source": [
    "try:\n",
    "    a = 5 / 0  # ZeroDivisionError\n",
    "    b = int(\"Hello\")  # ValueError\n",
    "except ZeroDivisionError:\n",
    "    print(\"Cannot divide by zero!\")\n",
    "except ValueError:\n",
    "    print(\"Invalid literal for int()!\")\n"
   ]
  },
  {
   "cell_type": "code",
   "execution_count": 3,
   "id": "ac88452c-23c9-4982-bc29-83393706e1f2",
   "metadata": {},
   "outputs": [
    {
     "name": "stdout",
     "output_type": "stream",
     "text": [
      "Age must be at least 18!\n"
     ]
    }
   ],
   "source": [
    "def check_age(age):\n",
    "    if age < 18:\n",
    "        raise ValueError(\"Age must be at least 18!\")\n",
    "    return \"Age is valid.\"\n",
    "\n",
    "try:\n",
    "    check_age(16)\n",
    "except ValueError as e:\n",
    "    print(e)\n"
   ]
  },
  {
   "cell_type": "code",
   "execution_count": 4,
   "id": "587c1cc1-25da-4ff1-965c-c132350a85e2",
   "metadata": {},
   "outputs": [
    {
     "ename": "AssertionError",
     "evalue": "x should be greater than 15!",
     "output_type": "error",
     "traceback": [
      "\u001b[1;31m---------------------------------------------------------------------------\u001b[0m",
      "\u001b[1;31mAssertionError\u001b[0m                            Traceback (most recent call last)",
      "Cell \u001b[1;32mIn[4], line 3\u001b[0m\n\u001b[0;32m      1\u001b[0m x \u001b[38;5;241m=\u001b[39m \u001b[38;5;241m10\u001b[39m\n\u001b[0;32m      2\u001b[0m \u001b[38;5;28;01massert\u001b[39;00m x \u001b[38;5;241m>\u001b[39m \u001b[38;5;241m5\u001b[39m, \u001b[38;5;124m\"\u001b[39m\u001b[38;5;124mx should be greater than 5!\u001b[39m\u001b[38;5;124m\"\u001b[39m\n\u001b[1;32m----> 3\u001b[0m \u001b[38;5;28;01massert\u001b[39;00m x \u001b[38;5;241m>\u001b[39m \u001b[38;5;241m15\u001b[39m, \u001b[38;5;124m\"\u001b[39m\u001b[38;5;124mx should be greater than 15!\u001b[39m\u001b[38;5;124m\"\u001b[39m  \u001b[38;5;66;03m# This will raise AssertionError\u001b[39;00m\n",
      "\u001b[1;31mAssertionError\u001b[0m: x should be greater than 15!"
     ]
    }
   ],
   "source": [
    "x = 10\n",
    "assert x > 5, \"x should be greater than 5!\"\n",
    "assert x > 15, \"x should be greater than 15!\"  # This will raise AssertionError\n"
   ]
  },
  {
   "cell_type": "code",
   "execution_count": 5,
   "id": "d08c7ecc-1590-4d2f-bac3-7d96baa571ff",
   "metadata": {},
   "outputs": [],
   "source": [
    "file = open(\"example.txt\", \"w\")\n",
    "file.write(\"Hello, this is a test.\")\n",
    "file.close()\n"
   ]
  },
  {
   "cell_type": "code",
   "execution_count": 6,
   "id": "b60a008e-ad75-4a72-be91-e10344017cbc",
   "metadata": {},
   "outputs": [
    {
     "name": "stdout",
     "output_type": "stream",
     "text": [
      "Hello, this is a test.\n"
     ]
    }
   ],
   "source": [
    "file = open(\"example.txt\", \"r\")\n",
    "content = file.read()\n",
    "print(content)  # Output: Hello, this is a test.\n",
    "file.close()\n"
   ]
  },
  {
   "cell_type": "code",
   "execution_count": 10,
   "id": "287208c0-5196-44cf-a365-9581d2cb9890",
   "metadata": {},
   "outputs": [
    {
     "name": "stdout",
     "output_type": "stream",
     "text": [
      "Hello, this is a test.\n"
     ]
    }
   ],
   "source": [
    "# Opening a file for reading\n",
    "with open('example.txt', 'r') as file:\n",
    "    content = file.read()  # Reading the content\n",
    "    print(content)  # Displaying the content\n",
    "# The file is automatically closed after the block\n",
    "# Opening a file for writing\n",
    "with open('example.txt', 'w') as file:\n",
    "    file.write('Hello, World!')  # Writing to the file\n",
    "# The file is automatically closed after the block\n",
    "\n",
    "              \n",
    "\n",
    "\n",
    "\n",
    "\n"
   ]
  },
  {
   "cell_type": "code",
   "execution_count": 11,
   "id": "0091b148-97d9-4c25-941b-9a79b4221cad",
   "metadata": {},
   "outputs": [
    {
     "name": "stdout",
     "output_type": "stream",
     "text": [
      "Hello, World!\n"
     ]
    }
   ],
   "source": [
    "# Opening a file for writing\n",
    "# This will create a new file or overwrite the existing 'example.txt'\n",
    "with open('example.txt', 'w') as file:\n",
    "    file.write('Hello, World!')  # Writing to the file\n",
    "# The file is automatically closed after the block\n",
    "\n",
    "# Opening a file for reading\n",
    "# This will read the content from 'example.txt'\n",
    "with open('example.txt', 'r') as file:\n",
    "    content = file.read()  # Reading the content\n",
    "    print(content)  # Displaying the content\n",
    "# The file is automatically closed after the block\n",
    "\n"
   ]
  },
  {
   "cell_type": "code",
   "execution_count": null,
   "id": "e781e282-998f-47b6-89b2-bdfc2e460b0b",
   "metadata": {},
   "outputs": [],
   "source": []
  }
 ],
 "metadata": {
  "kernelspec": {
   "display_name": "Python 3 (ipykernel)",
   "language": "python",
   "name": "python3"
  },
  "language_info": {
   "codemirror_mode": {
    "name": "ipython",
    "version": 3
   },
   "file_extension": ".py",
   "mimetype": "text/x-python",
   "name": "python",
   "nbconvert_exporter": "python",
   "pygments_lexer": "ipython3",
   "version": "3.13.0"
  }
 },
 "nbformat": 4,
 "nbformat_minor": 5
}
