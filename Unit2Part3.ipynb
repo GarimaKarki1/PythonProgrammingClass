{
 "cells": [
  {
   "cell_type": "code",
   "execution_count": 1,
   "id": "82fd15dc-cedf-4e5f-8edc-83ea320e5b4c",
   "metadata": {},
   "outputs": [],
   "source": [
    "#UNIT 2\n",
    "#COPY AND DEEP COPY PYTHON LISTS"
   ]
  },
  {
   "cell_type": "code",
   "execution_count": 2,
   "id": "b1fd436c-605a-4847-a50f-48479b016f1c",
   "metadata": {},
   "outputs": [],
   "source": [
    "def showDetails(*args):\n",
    "    for i in range(len(args)):\n",
    "        variable = args[i]\n",
    "        print(f\"The Value of { i+1 } variable is \\t{variable }\\t its id is \\t {id(variable)}\")\n",
    "    \n",
    "    print(\"\\n\\n\")"
   ]
  },
  {
   "cell_type": "code",
   "execution_count": 3,
   "id": "261cdf9d-f35b-4536-aa06-d1c7e9db9abb",
   "metadata": {},
   "outputs": [
    {
     "name": "stdout",
     "output_type": "stream",
     "text": [
      "The Value of 1 variable is \t[2, 4, 6, [1, 3]]\t its id is \t 1473727898048\n",
      "The Value of 2 variable is \t[2, 4, 6, [1, 3]]\t its id is \t 1473727898048\n",
      "\n",
      "\n",
      "\n",
      "The Value of 1 variable is \t[2, 44, 6, [1, 3]]\t its id is \t 1473727898048\n",
      "The Value of 2 variable is \t[2, 44, 6, [1, 3]]\t its id is \t 1473727898048\n",
      "\n",
      "\n",
      "\n",
      "The Value of 1 variable is \t[2, 44, 6, [1, 10]]\t its id is \t 1473727898048\n",
      "The Value of 2 variable is \t[2, 44, 6, [1, 10]]\t its id is \t 1473727898048\n",
      "\n",
      "\n",
      "\n"
     ]
    }
   ],
   "source": [
    "#Changes to one list will be reflected in the other\n",
    "\n",
    "listA = [2, 4, 6, [1, 3]]\n",
    "listB = listA\n",
    "showDetails(listA,listB)\n",
    "listB[1] = 44\n",
    "\n",
    "showDetails(listA,listB)\n",
    "listB[3][1] = 10\n",
    "\n",
    "\n",
    "showDetails(listA,listB)"
   ]
  },
  {
   "cell_type": "code",
   "execution_count": 4,
   "id": "f35cab28-8e0f-49a3-b258-262a039f372c",
   "metadata": {},
   "outputs": [
    {
     "name": "stdout",
     "output_type": "stream",
     "text": [
      "The Value of 1 variable is \t[2, 4, 6, [1, 3]]\t its id is \t 1473727890816\n",
      "The Value of 2 variable is \t[2, 4, 6, [1, 3]]\t its id is \t 1473727956288\n",
      "\n",
      "\n",
      "\n",
      "The Value of 1 variable is \t[2, 4, 6, [55, 3]]\t its id is \t 1473727890816\n",
      "The Value of 2 variable is \t[2, 44, 6, [55, 3]]\t its id is \t 1473727956288\n",
      "\n",
      "\n",
      "\n"
     ]
    }
   ],
   "source": [
    "#Shallow copy using the list() constructor\n",
    "\n",
    "listA = [2, 4, 6, [1, 3]]\n",
    "listB = list(listA)\n",
    "showDetails(listA,listB)\n",
    "\n",
    "listB[1] = 44\n",
    "listB[3][0] = 55\n",
    "\n",
    "showDetails(listA,listB)"
   ]
  },
  {
   "cell_type": "code",
   "execution_count": 5,
   "id": "1f8b2098-764a-451b-b82a-9aab4b989e29",
   "metadata": {},
   "outputs": [
    {
     "name": "stdout",
     "output_type": "stream",
     "text": [
      "The Value of 1 variable is \t[2, 4, 6, [1, 3]]\t its id is \t 1473727897792\n",
      "The Value of 2 variable is \t[2, 4, 6, [1, 3]]\t its id is \t 1473727706176\n",
      "\n",
      "\n",
      "\n",
      "The Value of 1 variable is \t[2, 4, 6, [55, 3]]\t its id is \t 1473727897792\n",
      "The Value of 2 variable is \t[2, 44, 6, [55, 3]]\t its id is \t 1473727706176\n",
      "\n",
      "\n",
      "\n"
     ]
    }
   ],
   "source": [
    "#other way to make a shallow copy \n",
    "\n",
    "listA = [2, 4, 6, [1, 3]]\n",
    "listB = [x for x in listA]\n",
    "showDetails(listA,listB)\n",
    "\n",
    "listB[1] = 44\n",
    "listB[3][0] = 55\n",
    "showDetails(listA,listB)"
   ]
  },
  {
   "cell_type": "code",
   "execution_count": 6,
   "id": "29cc6f3c-37ca-465f-9ac7-7519d47e3219",
   "metadata": {},
   "outputs": [
    {
     "name": "stdout",
     "output_type": "stream",
     "text": [
      "The Value of 1 variable is \t[2, 4, 6, [1, 3]]\t its id is \t 1473727902016\n",
      "The Value of 2 variable is \t[2, 4, 6, [1, 3]]\t its id is \t 1473727898816\n",
      "\n",
      "\n",
      "\n",
      "The Value of 1 variable is \t[2, 4, 6, [55, 3]]\t its id is \t 1473727902016\n",
      "The Value of 2 variable is \t[2, 44, 6, [55, 3]]\t its id is \t 1473727898816\n",
      "\n",
      "\n",
      "\n"
     ]
    }
   ],
   "source": [
    "listA = [2, 4, 6, [1, 3]]\n",
    "listB = [x for x in listA]\n",
    "showDetails(listA,listB)\n",
    "\n",
    "listB[1] = 44\n",
    "listB[3][0] = 55\n",
    "showDetails(listA,listB)"
   ]
  },
  {
   "cell_type": "code",
   "execution_count": 7,
   "id": "3d011191-120f-4f61-a3f1-bde5ce87dd9f",
   "metadata": {},
   "outputs": [
    {
     "name": "stdout",
     "output_type": "stream",
     "text": [
      "The Value of 1 variable is \t[2, 4, 6, [1, 3]]\t its id is \t 1473727897792\n",
      "The Value of 2 variable is \t[2, 4, 6, [1, 3]]\t its id is \t 1473727901312\n",
      "\n",
      "\n",
      "\n",
      "The Value of 1 variable is \t[2, 4, 6, [1, 3]]\t its id is \t 1473727897792\n",
      "The Value of 2 variable is \t[2, 44, 6, [55, 3]]\t its id is \t 1473727901312\n",
      "\n",
      "\n",
      "\n"
     ]
    }
   ],
   "source": [
    "import copy\n",
    "listA = [2, 4, 6, [1, 3]]\n",
    "listB = copy.deepcopy(listA)\n",
    "showDetails(listA,listB)\n",
    "listB[1] = 44\n",
    "listB[3][0] = 55\n",
    "showDetails(listA,listB)"
   ]
  },
  {
   "cell_type": "code",
   "execution_count": null,
   "id": "61327a54-279b-4789-bb38-4cf860df0c8f",
   "metadata": {},
   "outputs": [],
   "source": [
    "class Pony():\n",
    "    def __init__(self, n):\n",
    "        self.name = n\n",
    "        \n",
    "# copy.copy on an object gives you 2 unique objects (with same attributes)\n",
    "pony1 = Pony('Pinto')\n",
    "pony2 = copy.copy(pony1)\n",
    "showDetails(pony1,pony2)\n",
    "\n",
    "print(id(pony1), id(pony2))\n",
    "\n",
    "# copy.copy on a list of objects gives you 2 unique lists containing the exact same objects    \n",
    "# (ie. new list is a shallow copy)\n",
    "m = [pony1, pony2]\n",
    "n = copy.copy (m)\n",
    "print(id(m[0]), id(n[0]))\n",
    "\n",
    "# use copy.deepcopy to deep copy a list of objects\n",
    "n = copy.deepcopy (m)\n",
    "print(id(m[0]), id(n[0]))"
   ]
  }
 ],
 "metadata": {
  "kernelspec": {
   "display_name": "Python 3 (ipykernel)",
   "language": "python",
   "name": "python3"
  },
  "language_info": {
   "codemirror_mode": {
    "name": "ipython",
    "version": 3
   },
   "file_extension": ".py",
   "mimetype": "text/x-python",
   "name": "python",
   "nbconvert_exporter": "python",
   "pygments_lexer": "ipython3",
   "version": "3.13.0"
  }
 },
 "nbformat": 4,
 "nbformat_minor": 5
}
