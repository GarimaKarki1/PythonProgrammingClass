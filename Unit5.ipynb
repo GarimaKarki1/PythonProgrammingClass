{
 "cells": [
  {
   "cell_type": "code",
   "execution_count": 1,
   "id": "4459c851-409b-427c-8b7e-a9d838a0fef5",
   "metadata": {},
   "outputs": [],
   "source": [
    "#List comprehension\n"
   ]
  },
  {
   "cell_type": "code",
   "execution_count": 2,
   "id": "e7689b84-d2ba-4c3c-a69a-6d7cadad1600",
   "metadata": {},
   "outputs": [],
   "source": [
    "#Basic example"
   ]
  },
  {
   "cell_type": "code",
   "execution_count": 3,
   "id": "a1bdc0be-b50f-4b4a-a307-5aabbfb2787d",
   "metadata": {},
   "outputs": [
    {
     "name": "stdout",
     "output_type": "stream",
     "text": [
      "[0, 1, 4, 9, 16, 25, 36, 49, 64, 81]\n"
     ]
    }
   ],
   "source": [
    "squares = [x**2 for x in range(10)]\n",
    "print(squares)\n"
   ]
  },
  {
   "cell_type": "code",
   "execution_count": 4,
   "id": "aed4b1e2-1cb7-4538-a8bc-59571444f95a",
   "metadata": {},
   "outputs": [
    {
     "name": "stdout",
     "output_type": "stream",
     "text": [
      "[0, 2, 4, 6, 8, 10, 12, 14, 16, 18]\n"
     ]
    }
   ],
   "source": [
    "evens = [x for x in range(20) if x % 2 == 0]\n",
    "print(evens)\n"
   ]
  },
  {
   "cell_type": "code",
   "execution_count": 5,
   "id": "9c065c09-fce5-4965-a04e-fd872820d3ea",
   "metadata": {},
   "outputs": [
    {
     "name": "stdout",
     "output_type": "stream",
     "text": [
      "[5, 6, 6]\n"
     ]
    }
   ],
   "source": [
    "fruits = ['apple', 'banana', 'cherry']\n",
    "fruit_lengths = [len(fruit) for fruit in fruits]\n",
    "print(fruit_lengths)\n"
   ]
  },
  {
   "cell_type": "code",
   "execution_count": 6,
   "id": "6e74c322-bd0d-4cb1-8cd1-fbb18d55fe33",
   "metadata": {},
   "outputs": [
    {
     "name": "stdout",
     "output_type": "stream",
     "text": [
      "[1, 2, 3, 4, 5, 6, 7, 8, 9]\n"
     ]
    }
   ],
   "source": [
    "matrix = [[1, 2, 3], [4, 5, 6], [7, 8, 9]]\n",
    "flattened = [num for row in matrix for num in row]\n",
    "print(flattened)\n"
   ]
  },
  {
   "cell_type": "code",
   "execution_count": 7,
   "id": "ad43435f-5cb4-413b-a313-1383c1631dc1",
   "metadata": {},
   "outputs": [],
   "source": [
    "#Dictionary comprehension"
   ]
  },
  {
   "cell_type": "code",
   "execution_count": 8,
   "id": "77893450-4302-4778-87f8-8d336f3f9aeb",
   "metadata": {},
   "outputs": [
    {
     "name": "stdout",
     "output_type": "stream",
     "text": [
      "{0: 0, 1: 1, 2: 4, 3: 9, 4: 16}\n"
     ]
    }
   ],
   "source": [
    "squares_dict = {x: x**2 for x in range(5)}\n",
    "print(squares_dict)\n"
   ]
  },
  {
   "cell_type": "code",
   "execution_count": 9,
   "id": "70089c76-6a10-43ef-b294-b11e8a40b8a6",
   "metadata": {},
   "outputs": [
    {
     "name": "stdout",
     "output_type": "stream",
     "text": [
      "{'apple': 5, 'banana': 6, 'cherry': 6}\n"
     ]
    }
   ],
   "source": [
    "fruits = ['apple', 'banana', 'cherry']\n",
    "fruit_dict = {fruit: len(fruit) for fruit in fruits}\n",
    "print(fruit_dict)\n"
   ]
  },
  {
   "cell_type": "code",
   "execution_count": 10,
   "id": "d40de654-9069-4b5e-996f-1abf575d7552",
   "metadata": {},
   "outputs": [
    {
     "name": "stdout",
     "output_type": "stream",
     "text": [
      "{1: 'a', 2: 'b', 3: 'c'}\n"
     ]
    }
   ],
   "source": [
    "original_dict = {'a': 1, 'b': 2, 'c': 3}\n",
    "inverted_dict = {value: key for key, value in original_dict.items()}\n",
    "print(inverted_dict)\n"
   ]
  },
  {
   "cell_type": "code",
   "execution_count": 11,
   "id": "51b7d410-12aa-4653-b321-c190f88add18",
   "metadata": {},
   "outputs": [
    {
     "name": "stdout",
     "output_type": "stream",
     "text": [
      "{0: {0: 1, 1: 2, 2: 3}, 1: {0: 4, 1: 5, 2: 6}}\n"
     ]
    }
   ],
   "source": [
    "matrix = [[1, 2, 3], [4, 5, 6]]\n",
    "dict_matrix = {i: {j: value for j, value in enumerate(row)} for i, row in enumerate(matrix)}\n",
    "print(dict_matrix)\n"
   ]
  },
  {
   "cell_type": "code",
   "execution_count": 12,
   "id": "5fd320a0-78c4-49a2-b3b1-a1e1d4154432",
   "metadata": {},
   "outputs": [],
   "source": [
    "#example questions"
   ]
  },
  {
   "cell_type": "code",
   "execution_count": 13,
   "id": "c379bfdb-c93d-4872-836b-929ca927c9c9",
   "metadata": {},
   "outputs": [
    {
     "name": "stdout",
     "output_type": "stream",
     "text": [
      "The first 10 cube numbers are: [1, 8, 27, 64, 125, 216, 343, 512, 729, 1000]\n"
     ]
    }
   ],
   "source": [
    "# Create a list of the first 10 cube numbers\n",
    "cubes = [x**3 for x in range(1, 11)]  # Adjust range to start from 1 to include the first 10 cubes\n",
    "print(\"The first 10 cube numbers are:\", cubes)\n"
   ]
  },
  {
   "cell_type": "code",
   "execution_count": 15,
   "id": "9e5ba1d7-ff43-4ef6-a1dd-583a8b659c2b",
   "metadata": {},
   "outputs": [
    {
     "name": "stdout",
     "output_type": "stream",
     "text": [
      "{1: 1, 2: 2, 3: 6, 4: 24, 5: 120}\n"
     ]
    }
   ],
   "source": [
    "import math\n",
    "factorials = {x: math.factorial(x) for x in range(1, 6)}\n",
    "print(factorials)"
   ]
  },
  {
   "cell_type": "code",
   "execution_count": null,
   "id": "6914ce42-ee2e-4eb0-9a0b-6d5076f55982",
   "metadata": {},
   "outputs": [],
   "source": []
  }
 ],
 "metadata": {
  "kernelspec": {
   "display_name": "Python 3 (ipykernel)",
   "language": "python",
   "name": "python3"
  },
  "language_info": {
   "codemirror_mode": {
    "name": "ipython",
    "version": 3
   },
   "file_extension": ".py",
   "mimetype": "text/x-python",
   "name": "python",
   "nbconvert_exporter": "python",
   "pygments_lexer": "ipython3",
   "version": "3.13.0"
  }
 },
 "nbformat": 4,
 "nbformat_minor": 5
}
