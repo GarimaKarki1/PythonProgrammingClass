{
 "cells": [
  {
   "cell_type": "code",
   "execution_count": 1,
   "id": "4459c851-409b-427c-8b7e-a9d838a0fef5",
   "metadata": {},
   "outputs": [
    {
     "name": "stdout",
     "output_type": "stream",
     "text": [
      "This is written inside if block\n",
      "This is written outside if block\n"
     ]
    }
   ],
   "source": [
    "# 1. Indenting requirements\n",
    "\n",
    "if(True):\n",
    "    print(\"This is written inside if block\")\n",
    "print('This is written outside if block')"
   ]
  },
  {
   "cell_type": "code",
   "execution_count": 2,
   "id": "6e3d3305-b51d-4955-b7d5-9e267902d908",
   "metadata": {},
   "outputs": [
    {
     "name": "stdout",
     "output_type": "stream",
     "text": [
      " x is greater than 10\n"
     ]
    }
   ],
   "source": [
    "# 2. If statement \n",
    "\n",
    "x=20\n",
    "if(x>10):\n",
    "    print(\" x is greater than 10\")\n",
    "else:\n",
    "    print(\"x is smaller than 10\")"
   ]
  },
  {
   "cell_type": "code",
   "execution_count": 4,
   "id": "b3f66072-1f2e-475a-b088-c1fff18307e9",
   "metadata": {},
   "outputs": [
    {
     "name": "stdout",
     "output_type": "stream",
     "text": [
      "FALSE\n",
      "y is greater than or equal to z\n"
     ]
    }
   ],
   "source": [
    "# 3. Relational and Logical opertors\n",
    "\n",
    "\n",
    "#    ==   EQUAL TO \n",
    "#    !=   NOT EQUAL TO\n",
    "#    >    GREATER THAN\n",
    "#    <    LESS THAN\n",
    "#    >=   GREATER THAN EQUAL TO\n",
    "#    <=   LESS THAN EQUAL TO\n",
    "\n",
    "# EXAMPLE:-\n",
    "\n",
    "a=12\n",
    "b=29\n",
    "if(a>=b):\n",
    "    print(\"a is greater than or equal to b\")\n",
    "else:\n",
    "    print(\"FALSE\")\n",
    "\n",
    "#     and   TRUE IF BOTH CONDITIONS ARE TRUE \n",
    "#     or    TRUE IF AT LEAST ONE CONDITION IS TRUE\n",
    "#     not   TRUE IF CONDITION IS FALSE\n",
    "\n",
    "# EXAMPLE:-\n",
    "\n",
    "y=12\n",
    "z=10\n",
    "if(x>y and x>=y):\n",
    "    print(\"y is greater than or equal to z\")\n",
    "else:\n",
    "    print(\"y is greater\")"
   ]
  },
  {
   "cell_type": "code",
   "execution_count": 5,
   "id": "623809b1-25bc-467c-81b1-9d75552e0403",
   "metadata": {},
   "outputs": [
    {
     "name": "stdout",
     "output_type": "stream",
     "text": [
      "2\n",
      "58\n",
      "56\n",
      "-51\n",
      "0\n",
      "11258999068426240\n"
     ]
    }
   ],
   "source": [
    "# 4. Bitwise operators\n",
    "\n",
    "#    &           AND \n",
    "#    |           OR\n",
    "#    ^           XOR\n",
    "\n",
    "#    ~           NOT\n",
    "#    >>          LEFT SHIFT\n",
    "#    <<          RIGHT SHIFT\n",
    "\n",
    "#    Example:-\n",
    "\n",
    "a=10\n",
    "b=50\n",
    "print(a & b)\n",
    "print(a | b)\n",
    "print(a ^ b)\n",
    "print(~b )\n",
    "print(a >> b )\n",
    "print(a << b)"
   ]
  },
  {
   "cell_type": "code",
   "execution_count": 6,
   "id": "74ade0a8-5876-48fe-8ea3-cd8c7884e4d1",
   "metadata": {},
   "outputs": [
    {
     "name": "stdout",
     "output_type": "stream",
     "text": [
      "0\n",
      "1\n",
      "2\n",
      "3\n",
      "4\n",
      "5\n"
     ]
    }
   ],
   "source": [
    "# 5. While loop\n",
    " #        (repeatedly executs a block of code as long as the condition is true. )\n",
    "\n",
    "a=0                        # initialization\n",
    "while a<6:                 # while loop\n",
    "    print(a)               # printing a loop of 1 to 5 \n",
    "    a += 1                 # increment"
   ]
  },
  {
   "cell_type": "code",
   "execution_count": null,
   "id": "5973373f-3d5b-4286-9c67-1219c63f7eb4",
   "metadata": {},
   "outputs": [],
   "source": []
  }
 ],
 "metadata": {
  "kernelspec": {
   "display_name": "Python 3 (ipykernel)",
   "language": "python",
   "name": "python3"
  },
  "language_info": {
   "codemirror_mode": {
    "name": "ipython",
    "version": 3
   },
   "file_extension": ".py",
   "mimetype": "text/x-python",
   "name": "python",
   "nbconvert_exporter": "python",
   "pygments_lexer": "ipython3",
   "version": "3.13.0"
  }
 },
 "nbformat": 4,
 "nbformat_minor": 5
}
