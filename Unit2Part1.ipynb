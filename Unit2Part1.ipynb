{
 "cells": [
  {
   "cell_type": "code",
   "execution_count": 1,
   "id": "82fd15dc-cedf-4e5f-8edc-83ea320e5b4c",
   "metadata": {},
   "outputs": [],
   "source": [
    "#  UNIT  2\n",
    "# NAMING CONVENTIONS IN PYTHON "
   ]
  },
  {
   "cell_type": "code",
   "execution_count": 2,
   "id": "2f120fa1-b6d9-4de3-8f3d-d42b2d7e8d61",
   "metadata": {},
   "outputs": [
    {
     "name": "stdout",
     "output_type": "stream",
     "text": [
      "75.0\n"
     ]
    }
   ],
   "source": [
    "# 1. SNAKE CASE\n",
    "\n",
    "#snake case is a naming convention where words are separated by underscore(_) and all letters are in lowercase\n",
    "\n",
    "# Variable\n",
    "user_name = \"Akshu\"\n",
    "total_score = 95\n",
    "\n",
    "# Function \n",
    "def calculate_avg(score_list):\n",
    "    total = sum(score_list)\n",
    "    return total / len(score_list)\n",
    "\n",
    "avg = calculate_avg([95, 40, 90])\n",
    "print(avg) "
   ]
  },
  {
   "cell_type": "code",
   "execution_count": 3,
   "id": "4ff773ab-a53d-41cd-abc9-56c979b7f201",
   "metadata": {},
   "outputs": [],
   "source": [
    "# 2. CAMEL CASE\n",
    "\n",
    "#camel case is a naming convention where the first letter of each word is capitalized except for the first word, and there are no spaces or underscores\n",
    "\n",
    "userName = \"Aman\"\n",
    "totalScore = 95"
   ]
  },
  {
   "cell_type": "code",
   "execution_count": 4,
   "id": "353a536b-d58a-4374-bd9b-5bddbf1f92e3",
   "metadata": {},
   "outputs": [],
   "source": [
    "# 3. PASCAL CASE \n",
    "\n",
    "# in pascal case every word starts with a capital letter, including the first one \n",
    "\n",
    "# Class name in Pascal case\n",
    "class EmployeeDetails:\n",
    "    def init(name, age):\n",
    "        name=Arun\n",
    "        age= 38"
   ]
  },
  {
   "cell_type": "code",
   "execution_count": 5,
   "id": "68e5e294-7ebc-4374-8278-b1c04eecee81",
   "metadata": {},
   "outputs": [
    {
     "name": "stdout",
     "output_type": "stream",
     "text": [
      "31.4159\n"
     ]
    }
   ],
   "source": [
    "# 4. UPPERCASE WITH UNDERSCORES (Screaming Snake Case)\n",
    "\n",
    "# all uppercase letters with words are separated by underscores\n",
    "\n",
    "# Constant names in uppercase with underscores\n",
    "MAX_CONNECTIONS = 100\n",
    "PI = 3.14159\n",
    "\n",
    "def calculate_circumference(radius):\n",
    "    return 2 * PI * radius\n",
    "\n",
    "print(calculate_circumference(5)) "
   ]
  },
  {
   "cell_type": "code",
   "execution_count": 6,
   "id": "349a7e2e-337d-4d67-98c7-5d8a24e7998f",
   "metadata": {},
   "outputs": [
    {
     "name": "stdout",
     "output_type": "stream",
     "text": [
      "42\n"
     ]
    }
   ],
   "source": [
    "# 5. Single Underscore Prefix (_varname)\n",
    "\n",
    "class MyClass:\n",
    "    def __init__(self):\n",
    "        self._internal_value = 42\n",
    "\n",
    "    def get_value(self):\n",
    "        return self._internal_value\n",
    "\n",
    "obj = MyClass()\n",
    "print(obj.get_value())\n"
   ]
  },
  {
   "cell_type": "code",
   "execution_count": 13,
   "id": "473dfd0f-71f8-476b-823d-68f898249aaf",
   "metadata": {},
   "outputs": [
    {
     "ename": "AttributeError",
     "evalue": "'MyClass' object has no attribute '_MyClass__private_value'",
     "output_type": "error",
     "traceback": [
      "\u001b[1;31m---------------------------------------------------------------------------\u001b[0m",
      "\u001b[1;31mAttributeError\u001b[0m                            Traceback (most recent call last)",
      "Cell \u001b[1;32mIn[13], line 2\u001b[0m\n\u001b[0;32m      1\u001b[0m \u001b[38;5;66;03m# 6. Double Underscore Prefix (_varname)\u001b[39;00m\n\u001b[1;32m----> 2\u001b[0m \u001b[38;5;28mprint\u001b[39m(\u001b[43mobj\u001b[49m\u001b[38;5;241;43m.\u001b[39;49m\u001b[43m_MyClass__private_value\u001b[49m)  \n",
      "\u001b[1;31mAttributeError\u001b[0m: 'MyClass' object has no attribute '_MyClass__private_value'"
     ]
    }
   ],
   "source": [
    "# 6. Double Underscore Prefix (_varname)\n",
    "print(obj._MyClass__private_value)  \n",
    "\n",
    "\n"
   ]
  },
  {
   "cell_type": "code",
   "execution_count": 11,
   "id": "e2bb3492-4b95-4e16-8e34-f8694d7a3656",
   "metadata": {},
   "outputs": [],
   "source": [
    "# 7. Double Underscores Before and After Names (Dunder Methods)\n",
    "\n",
    "class MyClass:\n",
    "    def init(self, name):\n",
    "        self.name = name\n",
    "\n",
    "    def str(self):\n",
    "        return f\"MyClass object with name: {self.name}\""
   ]
  },
  {
   "cell_type": "code",
   "execution_count": null,
   "id": "a7488b43-0e08-4f76-a2f9-89c76a6e1a2b",
   "metadata": {},
   "outputs": [],
   "source": []
  }
 ],
 "metadata": {
  "kernelspec": {
   "display_name": "Python 3 (ipykernel)",
   "language": "python",
   "name": "python3"
  },
  "language_info": {
   "codemirror_mode": {
    "name": "ipython",
    "version": 3
   },
   "file_extension": ".py",
   "mimetype": "text/x-python",
   "name": "python",
   "nbconvert_exporter": "python",
   "pygments_lexer": "ipython3",
   "version": "3.13.0"
  }
 },
 "nbformat": 4,
 "nbformat_minor": 5
}
