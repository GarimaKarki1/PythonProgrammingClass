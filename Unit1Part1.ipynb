{
 "cells": [
  {
   "cell_type": "code",
   "execution_count": 1,
   "id": "0e2750c0-1d50-43d5-b8de-7ed1aedf663c",
   "metadata": {},
   "outputs": [
    {
     "name": "stdout",
     "output_type": "stream",
     "text": [
      "Hello world\n"
     ]
    }
   ],
   "source": [
    "# 1. Hello world program \n",
    "\n",
    "print(\"Hello world\")"
   ]
  },
  {
   "cell_type": "code",
   "execution_count": null,
   "id": "d55d6c0f-94f6-4777-8204-0480c6a094b7",
   "metadata": {},
   "outputs": [],
   "source": []
  },
  {
   "cell_type": "code",
   "execution_count": 1,
   "id": "9e4a44b8-c782-40f5-a5f4-05f1302f4991",
   "metadata": {},
   "outputs": [
    {
     "data": {
      "text/plain": [
       "int"
      ]
     },
     "execution_count": 1,
     "metadata": {},
     "output_type": "execute_result"
    }
   ],
   "source": [
    "# 2. variable types (python is a dynamic language)\n",
    "\n",
    "x=6\n",
    "type(x)"
   ]
  },
  {
   "cell_type": "code",
   "execution_count": 2,
   "id": "2b962f11-a3a5-4ce6-8d87-7679f7a61cf6",
   "metadata": {},
   "outputs": [
    {
     "data": {
      "text/plain": [
       "float"
      ]
     },
     "execution_count": 2,
     "metadata": {},
     "output_type": "execute_result"
    }
   ],
   "source": [
    "y=5.4\n",
    "type(y)\n"
   ]
  },
  {
   "cell_type": "code",
   "execution_count": 1,
   "id": "82fd15dc-cedf-4e5f-8edc-83ea320e5b4c",
   "metadata": {},
   "outputs": [
    {
     "data": {
      "text/plain": [
       "str"
      ]
     },
     "execution_count": 1,
     "metadata": {},
     "output_type": "execute_result"
    }
   ],
   "source": [
    "z=\"unit 2\"\n",
    "type(z)"
   ]
  },
  {
   "cell_type": "code",
   "execution_count": 3,
   "id": "db6d2d19-e875-4a0e-b1f8-365b73d76ed4",
   "metadata": {},
   "outputs": [
    {
     "name": "stdout",
     "output_type": "stream",
     "text": [
      "140716232991944\n",
      "140716232991976\n",
      "2396585616208\n",
      "2396585618736\n"
     ]
    }
   ],
   "source": [
    "# 3. Immutable objects\n",
    "\n",
    "#objects like          integers      floating point numbers       strings       tuple       frozensets        bytes   are immutable objects.... \n",
    "\n",
    "a=10\n",
    "print(id(a))         #address of a\n",
    "a=10+1\n",
    "print(id(a))         #new address of a\n",
    "\n",
    "b=4.5\n",
    "print(id(b))         #address of b \n",
    "b=4.5+100\n",
    "print(id(b))         #new address of b"
   ]
  },
  {
   "cell_type": "code",
   "execution_count": 4,
   "id": "07cd3574-4d27-43cc-a850-a9d30116eb46",
   "metadata": {},
   "outputs": [
    {
     "name": "stdout",
     "output_type": "stream",
     "text": [
      "2396585868608\n",
      "2396585868608\n",
      "[1, 2, 3, 4, 5, 6]\n"
     ]
    }
   ],
   "source": [
    "# 4. Mutable objects\n",
    "\n",
    "#objects like        lists        dictionaries         sets        byte arrays   are mutable objects....\n",
    "\n",
    "list=[1, 2, 3, 4, 5]\n",
    "print(id(list))                     #address of list\n",
    "list.append(6)                \n",
    "print(id(list))                     #address of list after append \n",
    "print(list)"
   ]
  },
  {
   "cell_type": "code",
   "execution_count": 5,
   "id": "f023ef86-27e6-4233-bcab-dcc1f4bf78c6",
   "metadata": {},
   "outputs": [
    {
     "name": "stdout",
     "output_type": "stream",
     "text": [
      "n is greater\n"
     ]
    }
   ],
   "source": [
    "# 5. Indentation            (crucial in python)\n",
    "\n",
    "m=10\n",
    "n=12\n",
    "if m > n:\n",
    "    print(\"m is greater than n\")                                    \n",
    "else:\n",
    "    print(\"n is greater\")"
   ]
  },
  {
   "cell_type": "code",
   "execution_count": 6,
   "id": "946a0508-f1dd-4bf7-a53c-28a7d6cc85b0",
   "metadata": {},
   "outputs": [
    {
     "name": "stdout",
     "output_type": "stream",
     "text": [
      "comments are non executable\n"
     ]
    }
   ],
   "source": [
    "# 5. comments \n",
    "\n",
    "print(\"comments are non executable\")                     # printing about comments"
   ]
  },
  {
   "cell_type": "code",
   "execution_count": 7,
   "id": "d309feac-0dd7-44b2-833f-6ac8624c2a9c",
   "metadata": {},
   "outputs": [
    {
     "name": "stdout",
     "output_type": "stream",
     "text": [
      "this is a string in single quotes\n",
      "this is a new string in double quotes\n"
     ]
    }
   ],
   "source": [
    "# 6.  String values \n",
    "\n",
    "my_string='this is a string in single quotes'\n",
    "my_newstring=\"this is a new string in double quotes\" \n",
    "print(my_string)\n",
    "print(my_newstring)"
   ]
  },
  {
   "cell_type": "code",
   "execution_count": 8,
   "id": "5255f9a9-4967-40d8-bc59-97c4182461e3",
   "metadata": {},
   "outputs": [
    {
     "name": "stdout",
     "output_type": "stream",
     "text": [
      "    string methods   \n",
      "    STRING METHODS   \n",
      "    string methods   \n",
      "    methods methods   \n",
      "2\n",
      "['string', 'methods']\n",
      "string methods\n"
     ]
    }
   ],
   "source": [
    "# 7. String methods\n",
    "\n",
    "#python provide many builtin methods for string manipulation\n",
    "\n",
    "g= \"    string methods   \"\n",
    "print(g.lower()) \n",
    "print(g.upper())\n",
    "print(g.capitalize())\n",
    "print(g.replace(\"string\", \"methods\"))\n",
    "print(g.count(\"s\"))\n",
    "print(g.split())\n",
    "print(g.strip())"
   ]
  },
  {
   "cell_type": "code",
   "execution_count": 9,
   "id": "0ac07958-5b9d-4cc5-b31a-ee000d948be7",
   "metadata": {},
   "outputs": [
    {
     "name": "stdout",
     "output_type": "stream",
     "text": [
      "MCA Batch B5   \n",
      "MCA Batch B5   MCA Batch B5   MCA Batch B5   MCA Batch B5   \n",
      "False\n",
      "True\n",
      "A\n",
      "at\n",
      "5\n",
      "False\n",
      "True\n",
      "False\n",
      " python is a \n",
      " programming language\n",
      "object oriented\n",
      "Romy is 24 years old and he is an artist\n",
      "Romy is 24 years old and he is an artist\n",
      "6\n"
     ]
    }
   ],
   "source": [
    "# 8. String operators\n",
    "\n",
    "a=\"MCA\"\n",
    "b=\"Batch\"\n",
    "c=\"B5\"\n",
    "my_string =a+\" \"+b+\" \"+c+\"   \"                # Concatenation operator\n",
    "print(my_string)\n",
    "result=my_string * 4                          # Repetition operator\n",
    "print(result)\n",
    "\n",
    "print( \"d\" in a)\n",
    "print(\"x\" not in b)                           # Membership operator\n",
    "\n",
    "print(a[2])\n",
    "print(b[1:3])\n",
    "print(c[-1])                                  # Slice operator\n",
    "\n",
    "print(a == b)\n",
    "print(a > b)\n",
    "print(a < c)                                  # String comparison operator\n",
    "\n",
    "d=\" python is a \\n programming language\"\n",
    "print(d)                                      # Escape character\n",
    "\n",
    "e=r\"object oriented\"\n",
    "print(e)                                      # Raw strings\n",
    "\n",
    "u='Romy'\n",
    "v=24\n",
    "w='artist'\n",
    "print(\"%s is %d years old and he is an %s\" %(u,v,w))\n",
    "print(\"{} is {} years old and he is an {}\".format(u,v,w))                 # String formatting \n",
    "print(len(w))                                  # length operator"
   ]
  },
  {
   "cell_type": "code",
   "execution_count": null,
   "id": "d4b325aa-2e35-4eaf-947b-d7830d536cdf",
   "metadata": {},
   "outputs": [],
   "source": []
  }
 ],
 "metadata": {
  "kernelspec": {
   "display_name": "Python 3 (ipykernel)",
   "language": "python",
   "name": "python3"
  },
  "language_info": {
   "codemirror_mode": {
    "name": "ipython",
    "version": 3
   },
   "file_extension": ".py",
   "mimetype": "text/x-python",
   "name": "python",
   "nbconvert_exporter": "python",
   "pygments_lexer": "ipython3",
   "version": "3.13.0"
  }
 },
 "nbformat": 4,
 "nbformat_minor": 5
}
